{
  "nbformat": 4,
  "nbformat_minor": 0,
  "metadata": {
    "colab": {
      "provenance": [],
      "authorship_tag": "ABX9TyP5Qvj43yPfRHXNjRad93or",
      "include_colab_link": true
    },
    "kernelspec": {
      "name": "python3",
      "display_name": "Python 3"
    },
    "language_info": {
      "name": "python"
    }
  },
  "cells": [
    {
      "cell_type": "markdown",
      "metadata": {
        "id": "view-in-github",
        "colab_type": "text"
      },
      "source": [
        "<a href=\"https://colab.research.google.com/github/FlorcitaHnatiuk/FlorcitaHnatiuk/blob/main/ListasyTuplas.ipynb\" target=\"_parent\"><img src=\"https://colab.research.google.com/assets/colab-badge.svg\" alt=\"Open In Colab\"/></a>"
      ]
    },
    {
      "cell_type": "code",
      "execution_count": null,
      "metadata": {
        "colab": {
          "base_uri": "https://localhost:8080/"
        },
        "id": "EjFqy4Cxy2Qg",
        "outputId": "ac9e2b88-88a5-4fbf-ef1b-13a78ccbef56"
      },
      "outputs": [
        {
          "output_type": "execute_result",
          "data": {
            "text/plain": [
              "[1, 12, 123, 1234, 'Hola']"
            ]
          },
          "metadata": {},
          "execution_count": 1
        }
      ],
      "source": [
        "lista1 = [1, 12, 123]\n",
        "lista2 = [\"Bye\", \"Ciao\", \"Agur\", \"Adieu\"]\n",
        "\n",
        "lista1.append(1234)\n",
        "lista1.append(\"Hola\")\n",
        "lista1\n"
      ]
    },
    {
      "cell_type": "code",
      "source": [
        "lista2.append(\"Adios\")\n",
        "lista2.append(1234)\n",
        "print(lista2)"
      ],
      "metadata": {
        "colab": {
          "base_uri": "https://localhost:8080/"
        },
        "id": "ECmilYoG0hoA",
        "outputId": "b36764a3-c438-4254-aaf2-41962fb38fe2"
      },
      "execution_count": null,
      "outputs": [
        {
          "output_type": "stream",
          "name": "stdout",
          "text": [
            "['Bye', 'Ciao', 'Agur', 'Adieu', 'Adios', 1234]\n"
          ]
        }
      ]
    },
    {
      "cell_type": "code",
      "source": [
        "#Generar una lista con todos los elementos de la lista1 menos el último\n",
        "lista3 = lista1[:-1]\n",
        "lista3"
      ],
      "metadata": {
        "colab": {
          "base_uri": "https://localhost:8080/"
        },
        "id": "L5em2xxl0qjy",
        "outputId": "1d018acc-2c9e-4984-8f37-f2fc97dc469c"
      },
      "execution_count": null,
      "outputs": [
        {
          "output_type": "execute_result",
          "data": {
            "text/plain": [
              "[1, 12, 123, 1234]"
            ]
          },
          "metadata": {},
          "execution_count": 3
        }
      ]
    },
    {
      "cell_type": "code",
      "source": [
        "#Generar una lista menos el ultimo y el primero\n",
        "lista4 = lista2[1:-1]\n",
        "lista4"
      ],
      "metadata": {
        "colab": {
          "base_uri": "https://localhost:8080/"
        },
        "id": "OPqWRadK0-sw",
        "outputId": "013e3c5e-2bc1-4eba-b796-2643873579bd"
      },
      "execution_count": null,
      "outputs": [
        {
          "output_type": "execute_result",
          "data": {
            "text/plain": [
              "['Ciao', 'Agur', 'Adieu', 'Adios']"
            ]
          },
          "metadata": {},
          "execution_count": 4
        }
      ]
    },
    {
      "cell_type": "code",
      "source": [
        "lista5 = lista4+lista3\n",
        "lista5"
      ],
      "metadata": {
        "colab": {
          "base_uri": "https://localhost:8080/"
        },
        "id": "dOMv5NsF1Jaq",
        "outputId": "13114893-3a2d-4811-e349-5bce324733a1"
      },
      "execution_count": null,
      "outputs": [
        {
          "output_type": "execute_result",
          "data": {
            "text/plain": [
              "['Ciao', 'Agur', 'Adieu', 'Adios', 1, 12, 123, 1234]"
            ]
          },
          "metadata": {},
          "execution_count": 5
        }
      ]
    },
    {
      "cell_type": "markdown",
      "source": [
        "**tuplas**"
      ],
      "metadata": {
        "id": "tZvwJ2QH1PnI"
      }
    },
    {
      "cell_type": "code",
      "source": [
        "tupla = (5, 12, 7, 37, 8, 86, 19, 7, -783, 87, 188, 7, 9, 12, 7, 3982)\n",
        "tupla[-1]"
      ],
      "metadata": {
        "colab": {
          "base_uri": "https://localhost:8080/"
        },
        "id": "zpu8pD8B1TIQ",
        "outputId": "e250eb53-f1b7-4374-a537-294d52340820"
      },
      "execution_count": null,
      "outputs": [
        {
          "output_type": "execute_result",
          "data": {
            "text/plain": [
              "3982"
            ]
          },
          "metadata": {},
          "execution_count": 6
        }
      ]
    },
    {
      "cell_type": "code",
      "source": [
        "len(tupla)"
      ],
      "metadata": {
        "colab": {
          "base_uri": "https://localhost:8080/"
        },
        "id": "sNLLB1cN1iy4",
        "outputId": "1ec80ae9-108e-4c3e-d081-647e71f296b3"
      },
      "execution_count": null,
      "outputs": [
        {
          "output_type": "execute_result",
          "data": {
            "text/plain": [
              "16"
            ]
          },
          "metadata": {},
          "execution_count": 8
        }
      ]
    },
    {
      "cell_type": "code",
      "source": [
        "tupla.index(87)"
      ],
      "metadata": {
        "colab": {
          "base_uri": "https://localhost:8080/"
        },
        "id": "3EF1lPfk1n6P",
        "outputId": "70baac82-9c1f-49fc-81ed-e77435b1e2ea"
      },
      "execution_count": null,
      "outputs": [
        {
          "output_type": "execute_result",
          "data": {
            "text/plain": [
              "9"
            ]
          },
          "metadata": {},
          "execution_count": 9
        }
      ]
    },
    {
      "cell_type": "code",
      "source": [
        "tupla[-3:]"
      ],
      "metadata": {
        "colab": {
          "base_uri": "https://localhost:8080/"
        },
        "id": "03QqxrIH1sTX",
        "outputId": "47254c79-fbe9-40b5-f520-e6dc1145ffc3"
      },
      "execution_count": null,
      "outputs": [
        {
          "output_type": "execute_result",
          "data": {
            "text/plain": [
              "(12, 7, 3982)"
            ]
          },
          "metadata": {},
          "execution_count": 10
        }
      ]
    },
    {
      "cell_type": "code",
      "source": [
        "tupla[8]"
      ],
      "metadata": {
        "colab": {
          "base_uri": "https://localhost:8080/"
        },
        "id": "19XKmIML1yEn",
        "outputId": "9235f626-d365-4b64-c79b-ad11d63238ad"
      },
      "execution_count": null,
      "outputs": [
        {
          "output_type": "execute_result",
          "data": {
            "text/plain": [
              "-783"
            ]
          },
          "metadata": {},
          "execution_count": 11
        }
      ]
    },
    {
      "cell_type": "code",
      "source": [
        "# cuantas veces aparece el item 7 en la tupla?\n",
        "tupla.count(7)\n"
      ],
      "metadata": {
        "colab": {
          "base_uri": "https://localhost:8080/"
        },
        "id": "ha_Hp1Qd11bG",
        "outputId": "def12875-735b-44b7-f525-dc6db49d6287"
      },
      "execution_count": null,
      "outputs": [
        {
          "output_type": "execute_result",
          "data": {
            "text/plain": [
              "4"
            ]
          },
          "metadata": {},
          "execution_count": 12
        }
      ]
    },
    {
      "cell_type": "code",
      "source": [
        "matriz = [\n",
        "    [1, 5, 1],\n",
        "    [2, 1, 2],\n",
        "    [3, 0, 1],\n",
        "    [1, 4, 4]\n",
        "]\n",
        "\n",
        "filas = len(matriz)\n",
        "\n",
        "for fila in range(filas):\n",
        "  suma = sum(matriz[fila])\n",
        "  matriz[fila].append(suma)\n",
        "\n",
        "print(matriz)"
      ],
      "metadata": {
        "id": "Zqoy0PcO3OLE",
        "colab": {
          "base_uri": "https://localhost:8080/"
        },
        "outputId": "53613458-957c-42e7-9432-e6aee9d63fbf"
      },
      "execution_count": 68,
      "outputs": [
        {
          "output_type": "stream",
          "name": "stdout",
          "text": [
            "[[1, 5, 1, 7], [2, 1, 2, 5], [3, 0, 1, 4], [1, 4, 4, 9]] \n",
            "\n"
          ]
        }
      ]
    }
  ]
}