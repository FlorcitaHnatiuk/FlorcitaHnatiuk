{
  "nbformat": 4,
  "nbformat_minor": 0,
  "metadata": {
    "colab": {
      "provenance": [],
      "collapsed_sections": [],
      "include_colab_link": true
    },
    "kernelspec": {
      "name": "python3",
      "display_name": "Python 3"
    },
    "language_info": {
      "name": "python"
    }
  },
  "cells": [
    {
      "cell_type": "markdown",
      "metadata": {
        "id": "view-in-github",
        "colab_type": "text"
      },
      "source": [
        "<a href=\"https://colab.research.google.com/github/FlorcitaHnatiuk/FlorcitaHnatiuk/blob/main/Real_Clase_9.ipynb\" target=\"_parent\"><img src=\"https://colab.research.google.com/assets/colab-badge.svg\" alt=\"Open In Colab\"/></a>"
      ]
    },
    {
      "cell_type": "markdown",
      "source": [
        "# Funciones\n",
        "\n",
        "\n",
        "Una función es un bloque de código organizado y reutilizable que se utiliza para realizar una única acción relacionada. Las funciones proporcionan una mejor modularidad para su aplicación y un alto grado de reutilización de código.\n",
        "\n",
        "Como ya saben, Python les da muchas funciones incorporadas como print(), etc. pero también pueden crear tus propias funciones. Estas funciones se llaman funciones definidas por el usuario.\n",
        "\n",
        "\n",
        "### Definir una función\n",
        "Puedes definir funciones para proporcionar la funcionalidad requerida. Estas son las reglas simples para definir una función en Python.\n",
        "\n",
        "* Los bloques de función comienzan con la palabra clave def seguida por el nombre de la función y los paréntesis ( ( ) ).\n",
        "* Cualquier parámetro o argumento de entrada debe colocarse dentro de estos paréntesis. También se pueden definir parámetros dentro de estos paréntesis.\n",
        "* La primera declaración de una función puede ser una declaración opcional: la cadena de documentación de la función o docstring.\n",
        "* El bloque de código dentro de cada función comienza con dos puntos (:) y está indentado.\n",
        "* La sentencia return [expresión] produce la salida de una función, devolviendo opcionalmente una expresión a quien la llama. Una sentencia return sin argumentos es lo mismo que return None.\n",
        "\n",
        "\n",
        "![Estructura básica de una función](https://media.geeksforgeeks.org/wp-content/uploads/20220721172423/51.png)\n",
        "\n"
      ],
      "metadata": {
        "id": "yTANPs--yZkj"
      }
    },
    {
      "cell_type": "code",
      "execution_count": null,
      "metadata": {
        "id": "cwQ8XP04xi5X"
      },
      "outputs": [],
      "source": [
        "# Ejemplo funcion basica\n",
        "def saludar():\n",
        "  print('Hola team CODER!!!')\n",
        "\n",
        "saludar()"
      ]
    },
    {
      "cell_type": "code",
      "source": [
        "def saludar(nombre):\n",
        "  print(f'Hola {nombre}')\n",
        "\n",
        "saludar('Maria')"
      ],
      "metadata": {
        "colab": {
          "base_uri": "https://localhost:8080/"
        },
        "id": "DyL9hqLGK_S-",
        "outputId": "fd61f004-3d04-45d9-b7f5-30ffb6d68982"
      },
      "execution_count": null,
      "outputs": [
        {
          "output_type": "stream",
          "name": "stdout",
          "text": [
            "Hola Maria\n"
          ]
        }
      ]
    },
    {
      "cell_type": "code",
      "source": [
        "# Ejemplo funcion con parametros\n",
        "\n",
        "def saludar_con_parametro(nombre):\n",
        "  \n",
        "   print(f'Hola {nombre} del team CODER!!!')\n",
        "\n",
        "# Equivalente a:\n",
        "# print(f'Hola {nombre} del team CODER!!!')\n",
        "\n",
        "nombre = input('Nombre: ')\n",
        "saludar_con_parametro(nombre)"
      ],
      "metadata": {
        "id": "vPl0r-90xrkF",
        "colab": {
          "base_uri": "https://localhost:8080/"
        },
        "outputId": "d249471c-ab16-4354-b832-2f667872d85e"
      },
      "execution_count": null,
      "outputs": [
        {
          "output_type": "stream",
          "name": "stdout",
          "text": [
            "Nombre: Damian\n",
            "Hola Damian del team CODER!!!\n"
          ]
        }
      ]
    },
    {
      "cell_type": "markdown",
      "source": [
        "### Algunas recomendaciones\n",
        "\n",
        "1. Utilizar minúsculas\n",
        "2. Las palabras se separan con guiones bajos _ \n",
        "3. Utilizar nombres autoexplicativos\n",
        "4. No usar nombres que no definan lo que hace la función (ejemplo letras simples o palabras sin sentido con lo que haga la función)\n"
      ],
      "metadata": {
        "id": "Oa0qyGbL0BHn"
      }
    },
    {
      "cell_type": "code",
      "source": [
        "# No es lo mismo\n",
        "def saludar():\n",
        "  print('Hola team CODER!!!')\n",
        "\n",
        "# A esta funcion\n",
        "def saludarATodos():\n",
        "  print('Hola team CODER!!!')\n",
        "\n",
        "saludar()"
      ],
      "metadata": {
        "id": "mh7XeWk7xrmJ",
        "colab": {
          "base_uri": "https://localhost:8080/"
        },
        "outputId": "32ca2f89-6502-4ddc-b2dc-9dc0dddadd59"
      },
      "execution_count": null,
      "outputs": [
        {
          "output_type": "stream",
          "name": "stdout",
          "text": [
            "Hola team CODER!!!\n",
            "Hola team CODER!!!\n",
            "Hola team CODER!!!\n"
          ]
        }
      ]
    },
    {
      "cell_type": "code",
      "source": [
        "# Que pasa con las variables dentro de las funciones?\n",
        "\n",
        "def test():\n",
        "  variable_test = 15\n",
        "  print(f\"{variable_test}\")\n",
        "\n",
        "\n",
        "test()\n",
        "print(variable_test)"
      ],
      "metadata": {
        "colab": {
          "base_uri": "https://localhost:8080/",
          "height": 222
        },
        "id": "bHiZkyDPxrof",
        "outputId": "d45b2683-3be7-4944-a798-bcb7465a5f88"
      },
      "execution_count": null,
      "outputs": [
        {
          "output_type": "stream",
          "name": "stdout",
          "text": [
            "15\n"
          ]
        },
        {
          "output_type": "error",
          "ename": "NameError",
          "evalue": "ignored",
          "traceback": [
            "\u001b[0;31m---------------------------------------------------------------------------\u001b[0m",
            "\u001b[0;31mNameError\u001b[0m                                 Traceback (most recent call last)",
            "\u001b[0;32m<ipython-input-1-7bbbaf69aa07>\u001b[0m in \u001b[0;36m<module>\u001b[0;34m\u001b[0m\n\u001b[1;32m      7\u001b[0m \u001b[0;34m\u001b[0m\u001b[0m\n\u001b[1;32m      8\u001b[0m \u001b[0mtest\u001b[0m\u001b[0;34m(\u001b[0m\u001b[0;34m)\u001b[0m\u001b[0;34m\u001b[0m\u001b[0;34m\u001b[0m\u001b[0m\n\u001b[0;32m----> 9\u001b[0;31m \u001b[0mprint\u001b[0m\u001b[0;34m(\u001b[0m\u001b[0mvariable_test\u001b[0m\u001b[0;34m)\u001b[0m\u001b[0;34m\u001b[0m\u001b[0;34m\u001b[0m\u001b[0m\n\u001b[0m",
            "\u001b[0;31mNameError\u001b[0m: name 'variable_test' is not defined"
          ]
        }
      ]
    },
    {
      "cell_type": "code",
      "source": [
        "# Que pasa con las variables dentro de las funciones?\n",
        "\n",
        "variable_test = 10\n",
        "\n",
        "def test():\n",
        "  variable_test = 2\n",
        "  print(f\"{variable_test}\")\n",
        "\n",
        "\n",
        "test()\n",
        "print(f'Este es el print normal {variable_test}')"
      ],
      "metadata": {
        "colab": {
          "base_uri": "https://localhost:8080/",
          "height": 347
        },
        "id": "mw6sE3Z3xrq2",
        "outputId": "99ff0770-c513-4a26-e23e-e7af1f073ef6"
      },
      "execution_count": null,
      "outputs": [
        {
          "output_type": "error",
          "ename": "UnboundLocalError",
          "evalue": "ignored",
          "traceback": [
            "\u001b[0;31m---------------------------------------------------------------------------\u001b[0m",
            "\u001b[0;31mUnboundLocalError\u001b[0m                         Traceback (most recent call last)",
            "\u001b[0;32m<ipython-input-4-a95a8cc2bb60>\u001b[0m in \u001b[0;36m<module>\u001b[0;34m\u001b[0m\n\u001b[1;32m      8\u001b[0m \u001b[0;34m\u001b[0m\u001b[0m\n\u001b[1;32m      9\u001b[0m \u001b[0;34m\u001b[0m\u001b[0m\n\u001b[0;32m---> 10\u001b[0;31m \u001b[0mtest\u001b[0m\u001b[0;34m(\u001b[0m\u001b[0;34m)\u001b[0m\u001b[0;34m\u001b[0m\u001b[0;34m\u001b[0m\u001b[0m\n\u001b[0m\u001b[1;32m     11\u001b[0m \u001b[0mprint\u001b[0m\u001b[0;34m(\u001b[0m\u001b[0;34mf'Este es el print normal {variable_test}'\u001b[0m\u001b[0;34m)\u001b[0m\u001b[0;34m\u001b[0m\u001b[0;34m\u001b[0m\u001b[0m\n",
            "\u001b[0;32m<ipython-input-4-a95a8cc2bb60>\u001b[0m in \u001b[0;36mtest\u001b[0;34m()\u001b[0m\n\u001b[1;32m      4\u001b[0m \u001b[0;34m\u001b[0m\u001b[0m\n\u001b[1;32m      5\u001b[0m \u001b[0;32mdef\u001b[0m \u001b[0mtest\u001b[0m\u001b[0;34m(\u001b[0m\u001b[0;34m)\u001b[0m\u001b[0;34m:\u001b[0m\u001b[0;34m\u001b[0m\u001b[0;34m\u001b[0m\u001b[0m\n\u001b[0;32m----> 6\u001b[0;31m   \u001b[0mvariable_test\u001b[0m \u001b[0;34m+=\u001b[0m \u001b[0;36m2\u001b[0m\u001b[0;34m\u001b[0m\u001b[0;34m\u001b[0m\u001b[0m\n\u001b[0m\u001b[1;32m      7\u001b[0m   \u001b[0mprint\u001b[0m\u001b[0;34m(\u001b[0m\u001b[0;34mf\"{variable_test}\"\u001b[0m\u001b[0;34m)\u001b[0m\u001b[0;34m\u001b[0m\u001b[0;34m\u001b[0m\u001b[0m\n\u001b[1;32m      8\u001b[0m \u001b[0;34m\u001b[0m\u001b[0m\n",
            "\u001b[0;31mUnboundLocalError\u001b[0m: local variable 'variable_test' referenced before assignment"
          ]
        }
      ]
    },
    {
      "cell_type": "code",
      "source": [
        "variable_test = 10\n",
        "\n",
        "def test():\n",
        "  variable_test = 2\n",
        "  return variable_test\n",
        "\n",
        "\n",
        "variable_test = test()\n",
        "print(f'Este es el print normal {variable_test}')\n",
        "\n"
      ],
      "metadata": {
        "colab": {
          "base_uri": "https://localhost:8080/"
        },
        "id": "VKBoPv5tPgGm",
        "outputId": "cc589cad-9a63-4d57-d765-a3b1f6dc861e"
      },
      "execution_count": null,
      "outputs": [
        {
          "output_type": "stream",
          "name": "stdout",
          "text": [
            "Este es el print normal 2\n"
          ]
        }
      ]
    },
    {
      "cell_type": "code",
      "source": [
        "def suma(valor1, valor2):\n",
        "  print(valor1 + valor2)\n",
        "#.         3        2  ->\n",
        "\n",
        "resultado = suma(3, 2)\n",
        "\n",
        "\n",
        "print(resultado)"
      ],
      "metadata": {
        "colab": {
          "base_uri": "https://localhost:8080/"
        },
        "id": "Zunz9MCTQrn_",
        "outputId": "fca4847a-5bd0-424b-8b84-0bf79bedde2c"
      },
      "execution_count": null,
      "outputs": [
        {
          "output_type": "stream",
          "name": "stdout",
          "text": [
            "5\n",
            "None\n"
          ]
        }
      ]
    },
    {
      "cell_type": "code",
      "source": [
        "texto_test = '  aasdas  '\n",
        "\n",
        "def eliminar_espacios(texto):\n",
        "  return texto.strip()\n",
        "\n",
        "print(eliminar_espacios(texto_test))"
      ],
      "metadata": {
        "colab": {
          "base_uri": "https://localhost:8080/"
        },
        "id": "aaCYGMCjSgpR",
        "outputId": "45c6966d-3eb7-4965-b45d-255b7139823f"
      },
      "execution_count": null,
      "outputs": [
        {
          "output_type": "stream",
          "name": "stdout",
          "text": [
            "aasdas\n"
          ]
        }
      ]
    },
    {
      "cell_type": "code",
      "source": [
        "# Ejemplo 1 Calculadora\n",
        "\n",
        "def calculadora(num1, num2, operacion):\n",
        "  if operacion == '+':\n",
        "      resultado = num1 + num2\n",
        "  elif operacion == '-':\n",
        "      resultado = num1 - num2\n",
        "  elif operacion == 'x':\n",
        "      resultado = num1 * num2\n",
        "  elif operacion == '/':\n",
        "      resultado = num1 / num2\n",
        "  else:\n",
        "      resultado = 'No se encontro la operacion'\n",
        "  return resultado\n",
        "\n",
        "print(f'{calculadora(3, 3, \"+\")}')\n",
        "\n",
        "#print(f'{calculadora(int(input(\"Numero 1: \")), int(input(\"Numero 2: \")), input(\"Operacion: \"))}')\n",
        " \n",
        "\n",
        "numero1 = int(input(\"Numero 1: \"))\n",
        "numero2 = int(input(\"Numero 2: \"))\n",
        "operacion = input(\"Operacion: \")\n",
        "\n",
        "print(f'{calculadora(numero1, numero2, operacion)}')\n",
        " \n",
        "\n",
        "\n"
      ],
      "metadata": {
        "id": "xKSYvF8pxrs8",
        "colab": {
          "base_uri": "https://localhost:8080/"
        },
        "outputId": "b90b8a88-5b4c-4156-986d-2636e6c04a75"
      },
      "execution_count": null,
      "outputs": [
        {
          "output_type": "stream",
          "name": "stdout",
          "text": [
            "6\n",
            "Numero 1: 3\n",
            "Numero 2: 3\n",
            "Operacion: +\n",
            "6\n"
          ]
        }
      ]
    },
    {
      "cell_type": "code",
      "source": [
        "def suma(lista):\n",
        "  resultado = 0\n",
        "  for numero in lista:\n",
        "    resultado += numero\n",
        "  \n",
        "  return resultado\n",
        "\n",
        "\n",
        "print(sum([1, 2, 3]))\n",
        "print(suma([1, 2, 3]))\n"
      ],
      "metadata": {
        "colab": {
          "base_uri": "https://localhost:8080/"
        },
        "id": "Y7k8llb9XOpd",
        "outputId": "48051f9a-e78d-4d9e-f436-8b09697b7681"
      },
      "execution_count": null,
      "outputs": [
        {
          "output_type": "stream",
          "name": "stdout",
          "text": [
            "6\n",
            "1\n"
          ]
        }
      ]
    },
    {
      "cell_type": "code",
      "source": [
        "# Ejemplo 2 Recrear la funcion sum\n",
        "\n",
        "# sum([1, 2, 4])\n",
        "\n",
        "def suma(lista):\n",
        "  resultado = 0\n",
        "  for elemento in lista:\n",
        "    resultado += elemento\n",
        "\n",
        "  return resultado\n",
        "\n",
        "print(sum([1, 2, 4]))\n",
        "print(suma([1, 2, 4]))"
      ],
      "metadata": {
        "colab": {
          "base_uri": "https://localhost:8080/"
        },
        "id": "7tZtDfqjAV6k",
        "outputId": "aebe5515-5554-43d0-ab8c-93123cc927fe"
      },
      "execution_count": null,
      "outputs": [
        {
          "output_type": "execute_result",
          "data": {
            "text/plain": [
              "7"
            ]
          },
          "metadata": {},
          "execution_count": 4
        }
      ]
    },
    {
      "cell_type": "code",
      "source": [
        "# Desafio\n",
        "\n",
        "def par_o_impar(numero):\n",
        "\n",
        "\n",
        "  if type(numero) == int:\n",
        "    if numero % 2 == 0:\n",
        "      return 'Par'\n",
        "    else:\n",
        "      return 'Impar'\n",
        "  else:\n",
        "    print('No es un numero')\n",
        "\n",
        "entrada = int(input('Ingrese el numero'))\n",
        "\n",
        "print(par_o_impar(entrada))"
      ],
      "metadata": {
        "colab": {
          "base_uri": "https://localhost:8080/",
          "height": 389
        },
        "id": "FfmN6k1rY8mX",
        "outputId": "73302c83-f375-4195-a04e-bb5b1b862b5d"
      },
      "execution_count": null,
      "outputs": [
        {
          "output_type": "error",
          "ename": "KeyboardInterrupt",
          "evalue": "ignored",
          "traceback": [
            "\u001b[0;31m---------------------------------------------------------------------------\u001b[0m",
            "\u001b[0;31mKeyboardInterrupt\u001b[0m                         Traceback (most recent call last)",
            "\u001b[0;32m<ipython-input-25-1933c6a4c575>\u001b[0m in \u001b[0;36m<module>\u001b[0;34m\u001b[0m\n\u001b[1;32m     12\u001b[0m     \u001b[0mprint\u001b[0m\u001b[0;34m(\u001b[0m\u001b[0;34m'No es un numero'\u001b[0m\u001b[0;34m)\u001b[0m\u001b[0;34m\u001b[0m\u001b[0;34m\u001b[0m\u001b[0m\n\u001b[1;32m     13\u001b[0m \u001b[0;34m\u001b[0m\u001b[0m\n\u001b[0;32m---> 14\u001b[0;31m \u001b[0mentrada\u001b[0m \u001b[0;34m=\u001b[0m \u001b[0mint\u001b[0m\u001b[0;34m(\u001b[0m\u001b[0minput\u001b[0m\u001b[0;34m(\u001b[0m\u001b[0;34m'Ingrese el numero'\u001b[0m\u001b[0;34m)\u001b[0m\u001b[0;34m)\u001b[0m\u001b[0;34m\u001b[0m\u001b[0;34m\u001b[0m\u001b[0m\n\u001b[0m\u001b[1;32m     15\u001b[0m \u001b[0;34m\u001b[0m\u001b[0m\n\u001b[1;32m     16\u001b[0m \u001b[0mprint\u001b[0m\u001b[0;34m(\u001b[0m\u001b[0mpar_o_impar\u001b[0m\u001b[0;34m(\u001b[0m\u001b[0mentrada\u001b[0m\u001b[0;34m)\u001b[0m\u001b[0;34m)\u001b[0m\u001b[0;34m\u001b[0m\u001b[0;34m\u001b[0m\u001b[0m\n",
            "\u001b[0;32m/usr/local/lib/python3.7/dist-packages/ipykernel/kernelbase.py\u001b[0m in \u001b[0;36mraw_input\u001b[0;34m(self, prompt)\u001b[0m\n\u001b[1;32m    861\u001b[0m             \u001b[0mself\u001b[0m\u001b[0;34m.\u001b[0m\u001b[0m_parent_ident\u001b[0m\u001b[0;34m,\u001b[0m\u001b[0;34m\u001b[0m\u001b[0;34m\u001b[0m\u001b[0m\n\u001b[1;32m    862\u001b[0m             \u001b[0mself\u001b[0m\u001b[0;34m.\u001b[0m\u001b[0m_parent_header\u001b[0m\u001b[0;34m,\u001b[0m\u001b[0;34m\u001b[0m\u001b[0;34m\u001b[0m\u001b[0m\n\u001b[0;32m--> 863\u001b[0;31m             \u001b[0mpassword\u001b[0m\u001b[0;34m=\u001b[0m\u001b[0;32mFalse\u001b[0m\u001b[0;34m,\u001b[0m\u001b[0;34m\u001b[0m\u001b[0;34m\u001b[0m\u001b[0m\n\u001b[0m\u001b[1;32m    864\u001b[0m         )\n\u001b[1;32m    865\u001b[0m \u001b[0;34m\u001b[0m\u001b[0m\n",
            "\u001b[0;32m/usr/local/lib/python3.7/dist-packages/ipykernel/kernelbase.py\u001b[0m in \u001b[0;36m_input_request\u001b[0;34m(self, prompt, ident, parent, password)\u001b[0m\n\u001b[1;32m    902\u001b[0m             \u001b[0;32mexcept\u001b[0m \u001b[0mKeyboardInterrupt\u001b[0m\u001b[0;34m:\u001b[0m\u001b[0;34m\u001b[0m\u001b[0;34m\u001b[0m\u001b[0m\n\u001b[1;32m    903\u001b[0m                 \u001b[0;31m# re-raise KeyboardInterrupt, to truncate traceback\u001b[0m\u001b[0;34m\u001b[0m\u001b[0;34m\u001b[0m\u001b[0;34m\u001b[0m\u001b[0m\n\u001b[0;32m--> 904\u001b[0;31m                 \u001b[0;32mraise\u001b[0m \u001b[0mKeyboardInterrupt\u001b[0m\u001b[0;34m(\u001b[0m\u001b[0;34m\"Interrupted by user\"\u001b[0m\u001b[0;34m)\u001b[0m \u001b[0;32mfrom\u001b[0m \u001b[0;32mNone\u001b[0m\u001b[0;34m\u001b[0m\u001b[0;34m\u001b[0m\u001b[0m\n\u001b[0m\u001b[1;32m    905\u001b[0m             \u001b[0;32mexcept\u001b[0m \u001b[0mException\u001b[0m \u001b[0;32mas\u001b[0m \u001b[0me\u001b[0m\u001b[0;34m:\u001b[0m\u001b[0;34m\u001b[0m\u001b[0;34m\u001b[0m\u001b[0m\n\u001b[1;32m    906\u001b[0m                 \u001b[0mself\u001b[0m\u001b[0;34m.\u001b[0m\u001b[0mlog\u001b[0m\u001b[0;34m.\u001b[0m\u001b[0mwarning\u001b[0m\u001b[0;34m(\u001b[0m\u001b[0;34m\"Invalid Message:\"\u001b[0m\u001b[0;34m,\u001b[0m \u001b[0mexc_info\u001b[0m\u001b[0;34m=\u001b[0m\u001b[0;32mTrue\u001b[0m\u001b[0;34m)\u001b[0m\u001b[0;34m\u001b[0m\u001b[0;34m\u001b[0m\u001b[0m\n",
            "\u001b[0;31mKeyboardInterrupt\u001b[0m: Interrupted by user"
          ]
        }
      ]
    },
    {
      "cell_type": "code",
      "source": [
        "print('TRANSACCION')\n",
        "print('O:Operador\\nV:Verificador\\nA:Autorizador')\n",
        "opcion = input('Selecione una opcion: ').upper()\n",
        "if (opcion == 'O'):\n",
        "  with open('/content/data_usuarios.txt','r') as datos:\n",
        "    for data in datos:\n",
        "      detalles = data.split('|')\n",
        "      if (detalles[0] == 'operador'):\n",
        "        print(f'El operador de la transaccion fue {detalles[3]}')\n",
        "        break\n",
        "elif (opcion == 'V'):\n",
        "  with open('/content/data_usuarios.txt','r') as datos:\n",
        "    for data in datos:\n",
        "      print(data)\n",
        "      detalles = data.split('|')\n",
        "      if (detalles[0] == 'verificador'):\n",
        "        print(f'El verificador de la transaccion fue {detalles[3]}')\n",
        "        break\n",
        "elif (opcion == 'A'):\n",
        "  with open('/content/data_usuarios.txt','r') as datos:\n",
        "    for data in datos:\n",
        "      detalles = data.split('|')\n",
        "      if (detalles[0] == 'autorizador'):\n",
        "        print(f'El autorizador de la transaccion fue {detalles[3]}')\n",
        "        break\n",
        "else:\n",
        "  print('Opcion no valida')"
      ],
      "metadata": {
        "colab": {
          "base_uri": "https://localhost:8080/"
        },
        "id": "foNZUO9D7sXf",
        "outputId": "7172669f-d1a8-4519-cef0-7acba7fa781d"
      },
      "execution_count": null,
      "outputs": [
        {
          "output_type": "stream",
          "name": "stdout",
          "text": [
            "TRANSACCION\n",
            "O:Operador\n",
            "V:Verificador\n",
            "A:Autorizador\n",
            "Selecione una opcion: v\n",
            "operador|developer@gmail.com|asd.456|Derick|Carcamo\n",
            "\n",
            "verificador|elbarto@gmail.com|qwerty123|Bartolomeo|Simpsom\n",
            "\n",
            "El verificador de la transaccion fue Bartolomeo\n"
          ]
        }
      ]
    },
    {
      "cell_type": "code",
      "source": [
        "def identificar_usuario(opcion):\n",
        "  with open('/content/data_usuarios.txt','r') as datos:\n",
        "    for data in datos:\n",
        "      detalles = data.split('|')\n",
        "      if (detalles[0] == opcion):\n",
        "        return detalles"
      ],
      "metadata": {
        "id": "wUw74FLocuUo"
      },
      "execution_count": null,
      "outputs": []
    },
    {
      "cell_type": "code",
      "source": [
        "print('TRANSACCION')\n",
        "print('O:Operador\\nV:Verificador\\nA:Autorizador')\n",
        "opcion = input('Selecione una opcion: ').upper()\n",
        "if (opcion == 'O'):\n",
        "  usuario = identificar_usuario('operador')\n",
        "elif (opcion == 'V'):\n",
        "  usuario = identificar_usuario('verificador')\n",
        "elif (opcion == 'A'):\n",
        "  usuario = identificar_usuario('autorizador')\n",
        "else:\n",
        "  print('Opcion no valida')\n",
        "\n",
        "print(f'El usuario con rol de {usuario[0]} fue {usuario[3]} {usuario[4]}')"
      ],
      "metadata": {
        "colab": {
          "base_uri": "https://localhost:8080/"
        },
        "id": "gVt3ymIQd--s",
        "outputId": "d5ae10ac-0a10-478e-b138-4aef139d6f77"
      },
      "execution_count": null,
      "outputs": [
        {
          "output_type": "stream",
          "name": "stdout",
          "text": [
            "TRANSACCION\n",
            "O:Operador\n",
            "V:Verificador\n",
            "A:Autorizador\n",
            "Selecione una opcion: a\n",
            "El usuario con rol de autorizador fue Daniel Ochoa\n",
            "\n"
          ]
        }
      ]
    }
  ]
}