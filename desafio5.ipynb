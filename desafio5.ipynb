{
  "nbformat": 4,
  "nbformat_minor": 0,
  "metadata": {
    "colab": {
      "provenance": [],
      "authorship_tag": "ABX9TyODVFJAEgrg+CMqaCOXwH2S",
      "include_colab_link": true
    },
    "kernelspec": {
      "name": "python3",
      "display_name": "Python 3"
    },
    "language_info": {
      "name": "python"
    }
  },
  "cells": [
    {
      "cell_type": "markdown",
      "metadata": {
        "id": "view-in-github",
        "colab_type": "text"
      },
      "source": [
        "<a href=\"https://colab.research.google.com/github/FlorcitaHnatiuk/FlorcitaHnatiuk/blob/main/desafio5.ipynb\" target=\"_parent\"><img src=\"https://colab.research.google.com/assets/colab-badge.svg\" alt=\"Open In Colab\"/></a>"
      ]
    },
    {
      "cell_type": "code",
      "execution_count": 13,
      "metadata": {
        "colab": {
          "base_uri": "https://localhost:8080/"
        },
        "id": "Wh_3wlzHia9N",
        "outputId": "4c48b53d-74ee-48fc-c82b-f2ff65abf590"
      },
      "outputs": [
        {
          "output_type": "stream",
          "name": "stdout",
          "text": [
            "El area del rectángulo es de: \n",
            "150\n"
          ]
        }
      ],
      "source": [
        "def area_rectangulo(base, altura):\n",
        "  return base * altura\n",
        "\n",
        "print(\"El area del rectángulo es de: \")\n",
        "print(area_rectangulo(10, 15))"
      ]
    },
    {
      "cell_type": "code",
      "source": [
        "import math\n",
        "def area_circulo(radio):\n",
        "  area = math.pi*radio**2\n",
        "  return print(\"El area del circulo es de %.3f\" % area)\n",
        "\n",
        "area_circulo(5)"
      ],
      "metadata": {
        "colab": {
          "base_uri": "https://localhost:8080/"
        },
        "id": "B9vYlf5OjmEJ",
        "outputId": "5b113b64-eb76-40d8-beb2-0a7a3ecacae3"
      },
      "execution_count": 9,
      "outputs": [
        {
          "output_type": "stream",
          "name": "stdout",
          "text": [
            "El area del circulo es de 78.540\n"
          ]
        }
      ]
    },
    {
      "cell_type": "code",
      "source": [],
      "metadata": {
        "id": "BPfGH9KXkCO7"
      },
      "execution_count": null,
      "outputs": []
    },
    {
      "cell_type": "code",
      "source": [
        "def relacion(num1, num2):\n",
        "  if num1 > num2:\n",
        "    return 1\n",
        "  elif num1 < num2:\n",
        "    return -1\n",
        "  return 0\n",
        "\n",
        "print(relacion(5, 10), relacion(10, 5), relacion(5, 5))"
      ],
      "metadata": {
        "colab": {
          "base_uri": "https://localhost:8080/"
        },
        "id": "4_m99qZvnNeO",
        "outputId": "e273ad04-1eff-4282-d96d-e1672fed6d2b"
      },
      "execution_count": 14,
      "outputs": [
        {
          "output_type": "stream",
          "name": "stdout",
          "text": [
            "-1 1 0\n"
          ]
        }
      ]
    },
    {
      "cell_type": "code",
      "source": [
        "def intermedio(num1, num2):\n",
        "  return(num1 + num2) / 2\n",
        "\n",
        "print(\"El resultado es: \")\n",
        "print(intermedio(-12, 24))"
      ],
      "metadata": {
        "colab": {
          "base_uri": "https://localhost:8080/"
        },
        "id": "1zDSKJ07nmUz",
        "outputId": "7f3aa53e-76ef-4fb8-c5a3-bb3bd0d8231c"
      },
      "execution_count": 19,
      "outputs": [
        {
          "output_type": "stream",
          "name": "stdout",
          "text": [
            "El resultado es: \n",
            "6.0\n"
          ]
        }
      ]
    },
    {
      "cell_type": "code",
      "source": [
        "def recortar(num, limite_inferior, limite_superior):\n",
        "  return max(min(num, limite_superior), limite_inferior)\n",
        "\n",
        "recortar(15, 0, 10)"
      ],
      "metadata": {
        "colab": {
          "base_uri": "https://localhost:8080/"
        },
        "id": "SbP1tjMqoEDi",
        "outputId": "2255a5ff-7f34-434a-f840-09c225b86832"
      },
      "execution_count": 21,
      "outputs": [
        {
          "output_type": "execute_result",
          "data": {
            "text/plain": [
              "10"
            ]
          },
          "metadata": {},
          "execution_count": 21
        }
      ]
    },
    {
      "cell_type": "code",
      "source": [
        "numeros = [-4, 3, 6, 12, -34, 47, 100, -87, 52]\n",
        "\n",
        "def separar(*args):\n",
        "  lista = sorted(args)\n",
        "  pares = []\n",
        "  impares = []\n",
        "  for arg in lista:\n",
        "    if arg % 2 == 0:\n",
        "      pares.append(arg)\n",
        "    else:\n",
        "      impares.append(arg)\n",
        "  return pares, impares\n",
        "\n",
        "pares, impares = separar(*numeros)\n",
        "print(pares)\n",
        "print(impares)\n"
      ],
      "metadata": {
        "colab": {
          "base_uri": "https://localhost:8080/"
        },
        "id": "vzoOTM0cowRp",
        "outputId": "848f8aad-50ba-4c06-8362-cca85ba410ed"
      },
      "execution_count": 24,
      "outputs": [
        {
          "output_type": "stream",
          "name": "stdout",
          "text": [
            "[-34, -4, 6, 12, 52, 100]\n",
            "[-87, 3, 47]\n"
          ]
        }
      ]
    }
  ]
}