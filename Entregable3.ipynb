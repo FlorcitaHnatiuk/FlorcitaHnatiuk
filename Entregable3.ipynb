{
  "nbformat": 4,
  "nbformat_minor": 0,
  "metadata": {
    "colab": {
      "provenance": [],
      "authorship_tag": "ABX9TyPZ/EWX7NDKg3H8c7+U97zA",
      "include_colab_link": true
    },
    "kernelspec": {
      "name": "python3",
      "display_name": "Python 3"
    },
    "language_info": {
      "name": "python"
    }
  },
  "cells": [
    {
      "cell_type": "markdown",
      "metadata": {
        "id": "view-in-github",
        "colab_type": "text"
      },
      "source": [
        "<a href=\"https://colab.research.google.com/github/FlorcitaHnatiuk/FlorcitaHnatiuk/blob/main/Entregable3.ipynb\" target=\"_parent\"><img src=\"https://colab.research.google.com/assets/colab-badge.svg\" alt=\"Open In Colab\"/></a>"
      ]
    },
    {
      "cell_type": "code",
      "execution_count": 7,
      "metadata": {
        "id": "V5wZgLAjAR9P",
        "colab": {
          "base_uri": "https://localhost:8080/"
        },
        "outputId": "eaa63b44-4237-44a1-a386-e71284fbdf6e"
      },
      "outputs": [
        {
          "output_type": "stream",
          "name": "stdout",
          "text": [
            "Ingresa un numero\n",
            "1\n",
            "Ingresa otro numero\n",
            "4\n",
            "Suma(s), Resta(r), Multiplicar(m) o Finalizar(f)s\n",
            "La suma es 5\n",
            "Suma(s), Resta(r), Multiplicar(m) o Finalizar(f)r\n",
            "La resta es -3\n",
            "Suma(s), Resta(r), Multiplicar(m) o Finalizar(f)m\n",
            "La multiplicacion es 4\n",
            "Suma(s), Resta(r), Multiplicar(m) o Finalizar(f)f\n",
            "Programa finalizado, el total es 0\n"
          ]
        }
      ],
      "source": [
        "n1 = int(input(\"Ingresa un numero\\n\"))\n",
        "n2= int(input(\"Ingresa otro numero\\n\"))\n",
        "total = 0\n",
        "while True:\n",
        "  option = str(input(\"Suma(s), Resta(r), Multiplicar(m) o Finalizar(f)\"))\n",
        "  if option == \"s\":\n",
        "    print(f\"La suma es {n1+n2}\")\n",
        "  elif option == \"r\":\n",
        "    print(f\"La resta es {n1-n2}\")\n",
        "  elif option == \"m\":\n",
        "     print(f\"La multiplicacion es {n1*n2}\")\n",
        "  elif option not in(\"s\", \"r\", \"m\", \"f\"):\n",
        "    print(\"No es válido\")\n",
        "  elif option == \"f\":\n",
        "    print(f\"Programa finalizado, el total es {total}\")\n",
        "    break"
      ]
    },
    {
      "cell_type": "code",
      "source": [
        "numero = int(input(\"Ingresá un número: \"))\n",
        "while numero >= 0:\n",
        "  if numero % 2 == 0:\n",
        "    print(\"Tu número es par. Por favor, ingresá un número nuevamente.\")\n",
        "    numero = int(input(\"Ingresá un número: \"))\n",
        "  elif numero % 2 != 0:\n",
        "    print(\"Este número es correcto!\")\n",
        "    break\n"
      ],
      "metadata": {
        "colab": {
          "base_uri": "https://localhost:8080/"
        },
        "id": "4B5dK_zVDMAR",
        "outputId": "5db5a4cf-c901-48af-f5f2-7337a05a152b"
      },
      "execution_count": null,
      "outputs": [
        {
          "output_type": "stream",
          "name": "stdout",
          "text": [
            "Ingresá un número: 2\n",
            "Tu número es par. Por favor, ingresá un número nuevamente.\n",
            "Ingresá un número: 3\n",
            "Este número es correcto!\n"
          ]
        }
      ]
    },
    {
      "cell_type": "code",
      "source": [
        "suma = 0\n",
        "for numeros in range (1, 101, 2):\n",
        "  suma = (numeros + suma)\n",
        "print(suma)"
      ],
      "metadata": {
        "colab": {
          "base_uri": "https://localhost:8080/"
        },
        "id": "h9cIog2DEWt6",
        "outputId": "07f7de82-3caf-42a4-f75c-438af9753ecb"
      },
      "execution_count": null,
      "outputs": [
        {
          "output_type": "stream",
          "name": "stdout",
          "text": [
            "2500\n"
          ]
        }
      ]
    },
    {
      "cell_type": "code",
      "source": [
        "suma = 0\n",
        "numeros = int(input(\"Cuantos números querés?\"))\n",
        "for x in range(numeros):\n",
        "  suma += float(input(\"Introducí un número: \"))\n",
        "print(f\"Introduciste \", numeros, \"números, que dan un total de \", suma, \"La media es de\", suma/numeros)"
      ],
      "metadata": {
        "colab": {
          "base_uri": "https://localhost:8080/"
        },
        "id": "mq6Hko2KE-v5",
        "outputId": "a4ae9e21-bd39-453a-903b-311b5a353a7b"
      },
      "execution_count": null,
      "outputs": [
        {
          "output_type": "stream",
          "name": "stdout",
          "text": [
            "Cuantos números querés?4\n",
            "Introducí un número: 1\n",
            "Introducí un número: 2\n",
            "Introducí un número: 3\n",
            "Introducí un número: 5\n",
            "Introduciste  4 números, que dan un total de  11.0 La media es de 2.75\n"
          ]
        }
      ]
    },
    {
      "cell_type": "code",
      "source": [
        "numeros = [1, 3, 6, 9]\n",
        "while (True):\n",
        "  numero = int(input(\"Escribe un número entre 0 y 9: \"))\n",
        "  if numero >= 0 and numero <= 9:\n",
        "    break\n",
        "if numero in numeros:\n",
        "  print(\"El numero \", numero, \"esta en la lista.\")\n",
        "else:\n",
        "  print(\"Ese número no esta en la lista\")"
      ],
      "metadata": {
        "colab": {
          "base_uri": "https://localhost:8080/"
        },
        "id": "bqFdg_L5G9zc",
        "outputId": "623eafdd-f67a-4cec-9831-63955a1a9bce"
      },
      "execution_count": null,
      "outputs": [
        {
          "output_type": "stream",
          "name": "stdout",
          "text": [
            "Escribe un número entre 0 y 9: 2\n",
            "Ese número no esta en la lista\n"
          ]
        }
      ]
    },
    {
      "cell_type": "code",
      "source": [
        "print(list(range(0,11)))\n",
        "print(list(range(-10,1)))\n",
        "print(list(range(0,21,2)))\n",
        "print(list(range(-19,0,2)))\n",
        "print(list(range(0,51,5)))"
      ],
      "metadata": {
        "colab": {
          "base_uri": "https://localhost:8080/"
        },
        "id": "ecs4NaGQH-J-",
        "outputId": "2683243a-3e1b-43db-8f1e-86ea6699135f"
      },
      "execution_count": null,
      "outputs": [
        {
          "output_type": "stream",
          "name": "stdout",
          "text": [
            "[0, 1, 2, 3, 4, 5, 6, 7, 8, 9, 10]\n",
            "[-10, -9, -8, -7, -6, -5, -4, -3, -2, -1, 0]\n",
            "[0, 2, 4, 6, 8, 10, 12, 14, 16, 18, 20]\n",
            "[-19, -17, -15, -13, -11, -9, -7, -5, -3, -1]\n",
            "[0, 5, 10, 15, 20, 25, 30, 35, 40, 45, 50]\n"
          ]
        }
      ]
    },
    {
      "cell_type": "code",
      "source": [
        "lista_1 = [\"h\", \"o\", \"l\", \"a\", \" \", \"m\", \"u\", \"n\", \"d\", \"o\"]\n",
        "lista_2 = [\"h\", \"o\", \"l\", \"a\", \" \", \"l\", \"u\", \"n\", \"a\"]\n",
        "lista_3 = []\n",
        "for letra in lista_1:\n",
        "  if letra in lista_2 and letra not in lista_3:\n",
        "    lista_3.append(letra)\n",
        "print(lista_3)"
      ],
      "metadata": {
        "colab": {
          "base_uri": "https://localhost:8080/"
        },
        "id": "ycOaxhL0IacU",
        "outputId": "713390a1-9dd9-468b-faa5-92ee461be5e9"
      },
      "execution_count": null,
      "outputs": [
        {
          "output_type": "stream",
          "name": "stdout",
          "text": [
            "['h', 'o', 'l', 'a', ' ', 'u', 'n']\n"
          ]
        }
      ]
    }
  ]
}