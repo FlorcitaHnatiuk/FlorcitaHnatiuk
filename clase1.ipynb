{
  "nbformat": 4,
  "nbformat_minor": 0,
  "metadata": {
    "colab": {
      "provenance": [],
      "collapsed_sections": [],
      "authorship_tag": "ABX9TyNNnuoLwcBPr4Sll3uLGKvo",
      "include_colab_link": true
    },
    "kernelspec": {
      "name": "python3",
      "display_name": "Python 3"
    },
    "language_info": {
      "name": "python"
    }
  },
  "cells": [
    {
      "cell_type": "markdown",
      "metadata": {
        "id": "view-in-github",
        "colab_type": "text"
      },
      "source": [
        "<a href=\"https://colab.research.google.com/github/FlorcitaHnatiuk/FlorcitaHnatiuk/blob/main/clase1.ipynb\" target=\"_parent\"><img src=\"https://colab.research.google.com/assets/colab-badge.svg\" alt=\"Open In Colab\"/></a>"
      ]
    },
    {
      "cell_type": "code",
      "execution_count": 7,
      "metadata": {
        "colab": {
          "base_uri": "https://localhost:8080/",
          "height": 140
        },
        "id": "vY3hFR468SnT",
        "outputId": "e6fe5850-2dca-42d6-a157-0d64c5758131"
      },
      "outputs": [
        {
          "output_type": "stream",
          "name": "stdout",
          "text": [
            "Cual fue la primer nota? \n",
            "10\n",
            "Cual fue la segunda nota? \n",
            "10\n",
            "Tu nota final es 10.0\n",
            "Python es un lenguaje moderno de programación\n"
          ]
        },
        {
          "output_type": "execute_result",
          "data": {
            "text/plain": [
              "'El alumno Emmanuel Sanabria se sacó un 10 en matemáticas'"
            ],
            "application/vnd.google.colaboratory.intrinsic+json": {
              "type": "string"
            }
          },
          "metadata": {},
          "execution_count": 7
        }
      ],
      "source": [
        "# ejercicio 1\n",
        "nota_1 = int(input(\"Cual fue la primer nota? \\n\"))*0.4\n",
        "nota_2 = int(input(\"Cual fue la segunda nota? \\n\"))*0.6\n",
        "total = nota_1+nota_2\n",
        "print(f\"Tu nota final es {total}\")\n",
        "\n",
        "# ejercicio 2\n",
        "cadena_1 = \"moderno\"\n",
        "cadena_2 = \"Python\"\n",
        "cadena_3 = \"es un lenguaje\"\n",
        "cadena_4 = \"de programación\"\n",
        "espacio = \" \"\n",
        "mi_frase = cadena_2 + espacio + cadena_3 + espacio + cadena_1 + espacio + cadena_4\n",
        "print(mi_frase)\n",
        "\n",
        "# ejercicio 3\n",
        "# Para evitar girar a mano la frase, hice la siguiente función\n",
        "str=\"Emmanuel Sanabria, 10, matemáticas\"\n",
        "  # print(len(str))\n",
        "sliced_str=str[::-1]\n",
        "  # print(sliced_str)\n",
        "# Esta es la función del ejercicio a realizar\n",
        "cadena = \"sacitámetam ,01 ,airbanaS leunammE\"\n",
        "cadena_girada = cadena[::-1]\n",
        "  # print(cadena_girada)\n",
        "nombre_alumno = cadena_girada [0:17]\n",
        "nota = cadena_girada[19:21]\n",
        "materia = cadena_girada [23:34]\n",
        "devolucion = f\"El alumno {nombre_alumno} se sacó un {nota} en {materia}\"\n",
        "devolucion"
      ]
    }
  ]
}