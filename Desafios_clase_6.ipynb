{
  "nbformat": 4,
  "nbformat_minor": 0,
  "metadata": {
    "colab": {
      "provenance": [],
      "collapsed_sections": [],
      "include_colab_link": true
    },
    "kernelspec": {
      "name": "python3",
      "display_name": "Python 3"
    },
    "language_info": {
      "name": "python"
    }
  },
  "cells": [
    {
      "cell_type": "markdown",
      "metadata": {
        "id": "view-in-github",
        "colab_type": "text"
      },
      "source": [
        "<a href=\"https://colab.research.google.com/github/FlorcitaHnatiuk/FlorcitaHnatiuk/blob/main/Desafios_clase_6.ipynb\" target=\"_parent\"><img src=\"https://colab.research.google.com/assets/colab-badge.svg\" alt=\"Open In Colab\"/></a>"
      ]
    },
    {
      "cell_type": "markdown",
      "source": [
        "## Desafio 1\n",
        "Programa las siguientes instrucciones de forma ordenada sobre la variable **grupo**:\n",
        "\n",
        "* Añade los usuarios: Ana, Ramón, Marta, Eric, David\n",
        "* Elimina los usuarios: Mario, Miguel, Esteban\n",
        "\n",
        "`grupo = {\"Miguel\", \"Blanca\", \"Mario\", \"Andrés\"}`\n"
      ],
      "metadata": {
        "id": "1FlxDzy1Umqp"
      }
    },
    {
      "cell_type": "code",
      "execution_count": null,
      "metadata": {
        "id": "8h0XiKnVUlu-"
      },
      "outputs": [],
      "source": [
        "grupo = {\"Miguel\", \"Blanca\", \"Mario\", \"Andrés\"}"
      ]
    },
    {
      "cell_type": "code",
      "source": [
        "grupo.update(['Ana', 'Ramón', 'Marta', 'Eric', 'David'])"
      ],
      "metadata": {
        "id": "Gpfsq6D8_zZW"
      },
      "execution_count": null,
      "outputs": []
    },
    {
      "cell_type": "code",
      "source": [
        "grupo"
      ],
      "metadata": {
        "colab": {
          "base_uri": "https://localhost:8080/"
        },
        "id": "zCFD6J7x_6E8",
        "outputId": "59fcb538-116a-4919-eb0f-1766fc3a6259"
      },
      "execution_count": null,
      "outputs": [
        {
          "output_type": "execute_result",
          "data": {
            "text/plain": [
              "{'Ana',\n",
              " 'Andrés',\n",
              " 'Blanca',\n",
              " 'David',\n",
              " 'Eric',\n",
              " 'Mario',\n",
              " 'Marta',\n",
              " 'Miguel',\n",
              " 'Ramón'}"
            ]
          },
          "metadata": {},
          "execution_count": 18
        }
      ]
    },
    {
      "cell_type": "code",
      "source": [
        "grupo.discard('Mario')\n",
        "grupo.discard('Miguel')\n",
        "grupo.discard('Esteban')"
      ],
      "metadata": {
        "id": "BqGOVI0kAP8q"
      },
      "execution_count": null,
      "outputs": []
    },
    {
      "cell_type": "code",
      "source": [
        "grupo = {'Miguel', 'Blanca', 'Mario', 'Andres'}\n",
        "nuevos_usuarios = ['Ana', 'Ramón', 'Marta', 'Eric', 'David']\n",
        "eliminados = ['Mario', 'Miguel', 'Esteban']\n",
        "\n",
        "grupo.update(nuevos_usuarios)\n",
        "\n",
        "for elemento in eliminados:\n",
        "    grupo.discard(elemento)\n",
        "\n",
        "print(grupo)"
      ],
      "metadata": {
        "colab": {
          "base_uri": "https://localhost:8080/"
        },
        "id": "wO2D3vCHAzrW",
        "outputId": "c0e29f72-1561-40dc-a287-4ef6c26d63b5"
      },
      "execution_count": null,
      "outputs": [
        {
          "output_type": "stream",
          "name": "stdout",
          "text": [
            "{'Marta', 'Blanca', 'David', 'Eric', 'Andres', 'Ramón', 'Ana'}\n"
          ]
        }
      ]
    },
    {
      "cell_type": "code",
      "source": [
        "print()"
      ],
      "metadata": {
        "id": "UGvbHUjIBvKp"
      },
      "execution_count": null,
      "outputs": []
    },
    {
      "cell_type": "markdown",
      "source": [
        "## Desafio 2\n",
        "\n",
        "Programa las siguientes instrucciones de forma ordenada sobre la variable **animales**:\n",
        "\n",
        "Inicialmente el diccionario es: `animales = {\"elefante\": \"\"}`\n",
        "\n",
        "* Añade al diccionario las claves perro, tigre y mono con sus respectivos valores “Bobby”,  “Peepe” y “homero”\n",
        "* Modificá las claves elefante y delfin con los valores “Trompis”y “Manolo” respectivamente"
      ],
      "metadata": {
        "id": "LkScYIH_U-gJ"
      }
    },
    {
      "cell_type": "code",
      "source": [
        "animales = {\"elefante\": \"\"}"
      ],
      "metadata": {
        "id": "Ch5J4S93VYm-"
      },
      "execution_count": null,
      "outputs": []
    },
    {
      "cell_type": "code",
      "source": [
        "animales.update({'perro': 'Bobby', 'tigre':'Peepe', 'mono': 'Homero'})"
      ],
      "metadata": {
        "id": "7ywzOuKeJF6n"
      },
      "execution_count": null,
      "outputs": []
    },
    {
      "cell_type": "code",
      "source": [
        "animales"
      ],
      "metadata": {
        "colab": {
          "base_uri": "https://localhost:8080/"
        },
        "id": "Vd9VRBrHJTCr",
        "outputId": "d7cfbfeb-31e7-448a-c100-582cce295082"
      },
      "execution_count": null,
      "outputs": [
        {
          "output_type": "execute_result",
          "data": {
            "text/plain": [
              "{'elefante': '', 'perro': 'Bobby', 'tigre': 'Peepe', 'mono': 'Homero'}"
            ]
          },
          "metadata": {},
          "execution_count": 24
        }
      ]
    },
    {
      "cell_type": "code",
      "source": [
        "animales['elefante'] = 'Trompis'"
      ],
      "metadata": {
        "id": "ONVq-XG4JneA"
      },
      "execution_count": null,
      "outputs": []
    },
    {
      "cell_type": "code",
      "source": [
        "animales"
      ],
      "metadata": {
        "colab": {
          "base_uri": "https://localhost:8080/"
        },
        "id": "rej-B_4yJ0_T",
        "outputId": "6e320f45-8d50-4ead-b38e-8ae8b02a1c3c"
      },
      "execution_count": null,
      "outputs": [
        {
          "output_type": "execute_result",
          "data": {
            "text/plain": [
              "{'elefante': 'Trompis', 'perro': 'Bobby', 'tigre': 'Peepe', 'mono': 'Homero'}"
            ]
          },
          "metadata": {},
          "execution_count": 26
        }
      ]
    },
    {
      "cell_type": "code",
      "source": [
        "animales['delfin'] = 'Manolo'"
      ],
      "metadata": {
        "id": "MDMOCqbZJ1xY"
      },
      "execution_count": null,
      "outputs": []
    },
    {
      "cell_type": "code",
      "source": [
        "animales"
      ],
      "metadata": {
        "id": "VDWAbW0TJ7V1",
        "outputId": "b6c2ee58-d297-49cf-9bb0-07a5d5e082d8",
        "colab": {
          "base_uri": "https://localhost:8080/"
        }
      },
      "execution_count": null,
      "outputs": [
        {
          "output_type": "execute_result",
          "data": {
            "text/plain": [
              "{'elefante': 'Trompis',\n",
              " 'perro': 'Bobby',\n",
              " 'tigre': 'Peepe',\n",
              " 'mono': 'Homero',\n",
              " 'delfin': 'Manolo'}"
            ]
          },
          "metadata": {},
          "execution_count": 28
        }
      ]
    }
  ]
}