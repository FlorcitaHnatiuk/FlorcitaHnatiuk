{
  "nbformat": 4,
  "nbformat_minor": 0,
  "metadata": {
    "colab": {
      "provenance": [],
      "include_colab_link": true
    },
    "kernelspec": {
      "name": "python3",
      "display_name": "Python 3"
    },
    "language_info": {
      "name": "python"
    }
  },
  "cells": [
    {
      "cell_type": "markdown",
      "metadata": {
        "id": "view-in-github",
        "colab_type": "text"
      },
      "source": [
        "<a href=\"https://colab.research.google.com/github/FlorcitaHnatiuk/FlorcitaHnatiuk/blob/main/Clase_08_genericos.ipynb\" target=\"_parent\"><img src=\"https://colab.research.google.com/assets/colab-badge.svg\" alt=\"Open In Colab\"/></a>"
      ]
    },
    {
      "cell_type": "markdown",
      "source": [
        "##Mi mascota\n",
        "Crea un programa que pida por teclado (input) los datos de tu mascota y\n",
        "los mismos se guarden en un archivo que se llame miMascota.txt.\n"
      ],
      "metadata": {
        "id": "lVH5h5m_1BCy"
      }
    },
    {
      "cell_type": "code",
      "execution_count": null,
      "metadata": {
        "id": "9bnLx_O80_WH",
        "colab": {
          "base_uri": "https://localhost:8080/"
        },
        "outputId": "97421769-00d6-404e-8ae0-670bf1a1b9d4"
      },
      "outputs": [
        {
          "name": "stdout",
          "output_type": "stream",
          "text": [
            "\n",
            "1. Agregar Mascota\n",
            "2. Salir\n",
            "1\n",
            "cual es el nombre de la mascota?\n",
            "1\n",
            "Cual es la edad del animal?\n",
            "1\n",
            "Cual es el tipo de mascota?\n",
            "1\n",
            "\n",
            "    1. Agregar Mascota\n",
            "    2. Salir\n",
            "  1\n",
            "cual es el nombre de la mascota?\n",
            "2\n",
            "Cual es la edad del animal?\n",
            "2\n",
            "Cual es el tipo de mascota?\n",
            "2\n",
            "\n",
            "    1. Agregar Mascota\n",
            "    2. Salir\n",
            "  2\n"
          ]
        }
      ],
      "source": [
        "from os import write\n",
        "\n",
        "ruta = open(\"/content/drive/MyDrive/34635/miMascota.txt\",\"w\")\n",
        "option = int(input(\"\"\"\n",
        "1. Agregar Mascota\n",
        "2. Salir\n",
        "\"\"\"))\n",
        "while(option!=2):\n",
        "  nombre = str(input(\"cual es el nombre de la mascota?\\n\"))\n",
        "  edad = str(input(\"Cual es la edad del animal?\\n\"))\n",
        "  tipo = str(input(\"Cual es el tipo de mascota?\\n\"))\n",
        "  mascota = {\n",
        "      \"nombre\":nombre,\n",
        "      \"edad\":edad,\n",
        "      \"tipo\":tipo,\n",
        "  }\n",
        "  ruta.write(f'{mascota[\"nombre\"]}, {mascota[\"edad\"]}, {mascota[\"tipo\"]}\\n')  \n",
        "  option = int(input(\"\"\"\n",
        "    1. Agregar Mascota\n",
        "    2. Salir\n",
        "  \"\"\"))\n",
        "else:\n",
        "  ruta.close()\n"
      ]
    },
    {
      "cell_type": "markdown",
      "source": [
        "##Curiosos por la información\n",
        "Descargar y guardar en sus Drive algún dato en formato csv de las fuentes\n",
        "que les dimos, o de cualquier otra, leerlos y agruparlos por alguna de las\n",
        "columnas, como hicimos en el ejemplo agrupando por “sede”"
      ],
      "metadata": {
        "id": "_xy7p0Jo1ObF"
      }
    },
    {
      "cell_type": "code",
      "source": [],
      "metadata": {
        "id": "fUWwyFwj2koy"
      },
      "execution_count": null,
      "outputs": []
    }
  ]
}