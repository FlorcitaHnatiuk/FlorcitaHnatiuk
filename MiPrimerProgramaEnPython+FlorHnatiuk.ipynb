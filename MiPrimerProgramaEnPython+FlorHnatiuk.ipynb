{
  "nbformat": 4,
  "nbformat_minor": 0,
  "metadata": {
    "colab": {
      "provenance": [],
      "authorship_tag": "ABX9TyMO/vvFZYUXr6Af+g/GkDwU",
      "include_colab_link": true
    },
    "kernelspec": {
      "name": "python3",
      "display_name": "Python 3"
    },
    "language_info": {
      "name": "python"
    }
  },
  "cells": [
    {
      "cell_type": "markdown",
      "metadata": {
        "id": "view-in-github",
        "colab_type": "text"
      },
      "source": [
        "<a href=\"https://colab.research.google.com/github/FlorcitaHnatiuk/FlorcitaHnatiuk/blob/main/MiPrimerProgramaEnPython%2BFlorHnatiuk.ipynb\" target=\"_parent\"><img src=\"https://colab.research.google.com/assets/colab-badge.svg\" alt=\"Open In Colab\"/></a>"
      ]
    },
    {
      "cell_type": "code",
      "execution_count": 8,
      "metadata": {
        "colab": {
          "base_uri": "https://localhost:8080/"
        },
        "id": "atoox-0I0SBU",
        "outputId": "2f8b1e4c-2b5f-4221-9989-ee91f9d31692"
      },
      "outputs": [
        {
          "output_type": "stream",
          "name": "stdout",
          "text": [
            "Nota del primer examen: 10\n",
            "Nota del segundo examen: 6\n",
            "Tu nota final es de: 7.6\n"
          ]
        }
      ],
      "source": [
        "nota_1 = int(input(\"Nota del primer examen: \"))*0.4\n",
        "nota_2 = int(input(\"Nota del segundo examen: \"))*0.6\n",
        "\n",
        "final = nota_1+nota_2\n",
        "print(f\"Tu nota final es de: {final}\")"
      ]
    }
  ]
}