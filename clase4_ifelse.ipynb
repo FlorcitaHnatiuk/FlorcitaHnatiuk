{
  "nbformat": 4,
  "nbformat_minor": 0,
  "metadata": {
    "colab": {
      "provenance": [],
      "authorship_tag": "ABX9TyM9z2F/sa/NiVoMgKQEbhWp",
      "include_colab_link": true
    },
    "kernelspec": {
      "name": "python3",
      "display_name": "Python 3"
    },
    "language_info": {
      "name": "python"
    }
  },
  "cells": [
    {
      "cell_type": "markdown",
      "metadata": {
        "id": "view-in-github",
        "colab_type": "text"
      },
      "source": [
        "<a href=\"https://colab.research.google.com/github/FlorcitaHnatiuk/FlorcitaHnatiuk/blob/main/clase4_ifelse.ipynb\" target=\"_parent\"><img src=\"https://colab.research.google.com/assets/colab-badge.svg\" alt=\"Open In Colab\"/></a>"
      ]
    },
    {
      "cell_type": "code",
      "execution_count": 1,
      "metadata": {
        "colab": {
          "base_uri": "https://localhost:8080/"
        },
        "id": "v2_0BWw0TdeK",
        "outputId": "813701fc-cf50-41bb-81d7-862875ff2a71"
      },
      "outputs": [
        {
          "output_type": "stream",
          "name": "stdout",
          "text": [
            "ingresa tu edad\n",
            "5\n",
            "No podes tomar alcohol\n"
          ]
        }
      ],
      "source": [
        "edad = int(input(\"ingresa tu edad\\n\"))\n",
        "if (edad >= 18):\n",
        "  print(\"Podes tomar alcohol\")\n",
        "else:\n",
        "  print(\"No podes tomar alcohol\")"
      ]
    },
    {
      "cell_type": "code",
      "source": [
        "nombre = input(\"como te llamas?\\n\")\n",
        "preferencia = input(\"Cual preferis? Marvel o Capcom?\")\n",
        "if((nombre[0]<=\"M\" and preferencia == \"Marvel\") or (nombre[0] >= \"N\" and preferencia == \"Capcom\")):\n",
        "  print(\"Sos del grupo A\")\n",
        "else:\n",
        "  print(\"Sos del grupo B\")"
      ],
      "metadata": {
        "colab": {
          "base_uri": "https://localhost:8080/"
        },
        "id": "dStfV1QtUglu",
        "outputId": "f2389355-71ee-4620-b589-5efc84a3ede6"
      },
      "execution_count": 2,
      "outputs": [
        {
          "output_type": "stream",
          "name": "stdout",
          "text": [
            "como te llamas?\n",
            "Florencia\n",
            "Cual preferis? Marvel o Capcom?Marvel\n",
            "Sos del grupo A\n"
          ]
        }
      ]
    },
    {
      "cell_type": "code",
      "source": [],
      "metadata": {
        "id": "yFU2qKmFVMSr"
      },
      "execution_count": null,
      "outputs": []
    }
  ]
}