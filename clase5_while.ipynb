{
  "nbformat": 4,
  "nbformat_minor": 0,
  "metadata": {
    "colab": {
      "provenance": [],
      "authorship_tag": "ABX9TyNZ+POdfTjreFHAMovDmPOp",
      "include_colab_link": true
    },
    "kernelspec": {
      "name": "python3",
      "display_name": "Python 3"
    },
    "language_info": {
      "name": "python"
    }
  },
  "cells": [
    {
      "cell_type": "markdown",
      "metadata": {
        "id": "view-in-github",
        "colab_type": "text"
      },
      "source": [
        "<a href=\"https://colab.research.google.com/github/FlorcitaHnatiuk/FlorcitaHnatiuk/blob/main/clase5_while.ipynb\" target=\"_parent\"><img src=\"https://colab.research.google.com/assets/colab-badge.svg\" alt=\"Open In Colab\"/></a>"
      ]
    },
    {
      "cell_type": "code",
      "source": [],
      "metadata": {
        "id": "riQxSUwjXxE4"
      },
      "execution_count": null,
      "outputs": []
    },
    {
      "cell_type": "code",
      "execution_count": 5,
      "metadata": {
        "colab": {
          "base_uri": "https://localhost:8080/"
        },
        "id": "QmNu3BXuXD9E",
        "outputId": "7c67e546-01fb-4bc2-ffe5-dc8de9db34b5"
      },
      "outputs": [
        {
          "output_type": "stream",
          "name": "stdout",
          "text": [
            "5\n",
            "Terminó el conteo\n",
            "4\n",
            "Terminó el conteo\n",
            "3\n",
            "Terminó el conteo\n",
            "2\n",
            "Terminó el conteo\n",
            "1\n",
            "Terminó el conteo\n"
          ]
        }
      ],
      "source": [
        "num = 5\n",
        "while num > 0:\n",
        "  print(f\"{num}\")\n",
        "  num -= 1\n",
        "  print(\"Terminó el conteo\")"
      ]
    },
    {
      "cell_type": "code",
      "source": [
        "chance = 1\n",
        "while chance <= 3:\n",
        "  txt = input(\"Escribi 'SI':\")\n",
        "  if txt == \"SI\":\n",
        "    print(\"Ok, lo conseguiste en el intento n° \", chance)\n",
        "    break\n",
        "  chance += 1\n",
        "else:\n",
        "  print(\"No tenés mas intentos\")"
      ],
      "metadata": {
        "colab": {
          "base_uri": "https://localhost:8080/"
        },
        "id": "DpUYA3laX0H4",
        "outputId": "b4c71648-7085-46f4-9014-ec729c67dc9a"
      },
      "execution_count": 6,
      "outputs": [
        {
          "output_type": "stream",
          "name": "stdout",
          "text": [
            "Escribi 'SI':si\n",
            "Escribi 'SI':SI\n",
            "Ok, lo conseguiste en el intento n°  2\n"
          ]
        }
      ]
    },
    {
      "cell_type": "markdown",
      "source": [
        "Escribir un programa que le pregunte al usuario números hasta que ingrese el numero 0. Cuando lo haga mostrar por pantalla la suma de todos los numeros ingresados."
      ],
      "metadata": {
        "id": "8DDpE4SOZKtq"
      }
    },
    {
      "cell_type": "code",
      "source": [
        "ingresoNum = int(input(\"Ingresá un número\"))\n",
        "###################"
      ],
      "metadata": {
        "id": "UGwAdESSZfeT"
      },
      "execution_count": null,
      "outputs": []
    },
    {
      "cell_type": "code",
      "source": [
        "n2 = 5\n",
        "while n2 < 10:\n",
        "  n2 -= 1\n",
        "  if n2 == 2:\n",
        "    print(\"Ahora que n2 vale 2, salimos\")\n",
        "    break\n",
        "  print(\"n2 vale \", n2)"
      ],
      "metadata": {
        "colab": {
          "base_uri": "https://localhost:8080/"
        },
        "id": "mR0Ms-O5Zo94",
        "outputId": "49317fd3-58e7-40e9-e2b7-f89716b514b6"
      },
      "execution_count": 9,
      "outputs": [
        {
          "output_type": "stream",
          "name": "stdout",
          "text": [
            "n2 vale  4\n",
            "n2 vale  3\n",
            "Ahora que n2 vale 2, salimos\n"
          ]
        }
      ]
    },
    {
      "cell_type": "code",
      "source": [],
      "metadata": {
        "id": "4ZSWwt5baKfu"
      },
      "execution_count": null,
      "outputs": []
    },
    {
      "cell_type": "code",
      "source": [
        "c = -3\n",
        "while True:\n",
        "  c += 1\n",
        "  if c == 2:\n",
        "    print(\"ahora que c vale 2 salimos\")\n",
        "    break\n",
        "  print(\"c vale \", c)"
      ],
      "metadata": {
        "colab": {
          "base_uri": "https://localhost:8080/"
        },
        "id": "YypiBzh8aION",
        "outputId": "9de035aa-e370-4db3-c2ed-6f0059d5d97d"
      },
      "execution_count": 12,
      "outputs": [
        {
          "output_type": "stream",
          "name": "stdout",
          "text": [
            "c vale  -2\n",
            "c vale  -1\n",
            "c vale  0\n",
            "c vale  1\n",
            "ahora que c vale 2 salimos\n"
          ]
        }
      ]
    },
    {
      "cell_type": "code",
      "source": [
        "n = 0\n",
        "while n < 10:\n",
        "  n += 1\n",
        "  if n == 2:\n",
        "    print(\"continuemos iterando\")\n",
        "    continue\n",
        "  print(\"n vale \", n)"
      ],
      "metadata": {
        "colab": {
          "base_uri": "https://localhost:8080/"
        },
        "id": "f_Fm2plpcFe1",
        "outputId": "58db729f-7fd8-402f-8b91-c5c05658c0ac"
      },
      "execution_count": 13,
      "outputs": [
        {
          "output_type": "stream",
          "name": "stdout",
          "text": [
            "n vale  1\n",
            "continuemos iterando\n",
            "n vale  3\n",
            "n vale  4\n",
            "n vale  5\n",
            "n vale  6\n",
            "n vale  7\n",
            "n vale  8\n",
            "n vale  9\n",
            "n vale  10\n"
          ]
        }
      ]
    },
    {
      "cell_type": "code",
      "source": [
        "n = 0\n",
        "while n < 10:\n",
        "  n += 1\n",
        "  if n == 2:\n",
        "    pass\n",
        "  print(\"n vale \", n)"
      ],
      "metadata": {
        "colab": {
          "base_uri": "https://localhost:8080/"
        },
        "id": "xCwJG1lmcpRX",
        "outputId": "d25768f6-240a-4279-d6cb-6fab1b17ce1c"
      },
      "execution_count": 14,
      "outputs": [
        {
          "output_type": "stream",
          "name": "stdout",
          "text": [
            "n vale  1\n",
            "n vale  2\n",
            "n vale  3\n",
            "n vale  4\n",
            "n vale  5\n",
            "n vale  6\n",
            "n vale  7\n",
            "n vale  8\n",
            "n vale  9\n",
            "n vale  10\n"
          ]
        }
      ]
    },
    {
      "cell_type": "code",
      "source": [
        "c = -3\n",
        "while c < 10:\n",
        "  c += 1\n",
        "  if c == 2:\n",
        "    pass\n",
        "  print(\"c vale \", c)"
      ],
      "metadata": {
        "colab": {
          "base_uri": "https://localhost:8080/"
        },
        "id": "sS5sPIzGc6Z-",
        "outputId": "51091962-97c1-4933-96e8-7b9631a4ff9e"
      },
      "execution_count": 15,
      "outputs": [
        {
          "output_type": "stream",
          "name": "stdout",
          "text": [
            "c vale  -2\n",
            "c vale  -1\n",
            "c vale  0\n",
            "c vale  1\n",
            "c vale  2\n",
            "c vale  3\n",
            "c vale  4\n",
            "c vale  5\n",
            "c vale  6\n",
            "c vale  7\n",
            "c vale  8\n",
            "c vale  9\n",
            "c vale  10\n"
          ]
        }
      ]
    },
    {
      "cell_type": "code",
      "source": [
        "lista = [1, 2, 3, 4, 5]\n",
        "for valor in lista: \n",
        "  print(\"Soy un item en la lista y valgo \", valor)\n",
        "  valor *= 5\n",
        "  print(\"Soy un item en la lista y ahora valgo \", valor)"
      ],
      "metadata": {
        "colab": {
          "base_uri": "https://localhost:8080/"
        },
        "id": "986hdheKdHm8",
        "outputId": "ccf57562-431f-4b1b-cde7-4f423713384b"
      },
      "execution_count": 17,
      "outputs": [
        {
          "output_type": "stream",
          "name": "stdout",
          "text": [
            "Soy un item en la lista y valgo  1\n",
            "Soy un item en la lista y ahora valgo  5\n",
            "Soy un item en la lista y valgo  2\n",
            "Soy un item en la lista y ahora valgo  10\n",
            "Soy un item en la lista y valgo  3\n",
            "Soy un item en la lista y ahora valgo  15\n",
            "Soy un item en la lista y valgo  4\n",
            "Soy un item en la lista y ahora valgo  20\n",
            "Soy un item en la lista y valgo  5\n",
            "Soy un item en la lista y ahora valgo  25\n"
          ]
        }
      ]
    },
    {
      "cell_type": "code",
      "source": [
        "index = 0\n",
        "numeros = [0, 1, 2, 3, 4, 5, 6, 7, 8, 9, 10]\n",
        "for numero in numeros:\n",
        "  numeros[index] *= 5\n",
        "  index += 1\n",
        "print(numeros)"
      ],
      "metadata": {
        "colab": {
          "base_uri": "https://localhost:8080/"
        },
        "id": "O3WSkoT_deBb",
        "outputId": "2291e172-b4cf-4ce7-8cb4-5d618e313a2c"
      },
      "execution_count": 18,
      "outputs": [
        {
          "output_type": "stream",
          "name": "stdout",
          "text": [
            "[0, 5, 10, 15, 20, 25, 30, 35, 40, 45, 50]\n"
          ]
        }
      ]
    },
    {
      "cell_type": "code",
      "source": [
        "lista = [66, -3, 35, 96]\n",
        "for index, numero in enumerate(lista):\n",
        "  print(f\"INDICE: {index}\")\n",
        "  print(f\"NUMERO: {numero}\\n\\n\")\n",
        "  print(f\"-------->{lista[index]}\\n\\n<--------------\")"
      ],
      "metadata": {
        "colab": {
          "base_uri": "https://localhost:8080/"
        },
        "id": "qNrZ9vwEd1XH",
        "outputId": "4eba0e12-ff17-4649-b060-4f7ec9bc6c15"
      },
      "execution_count": 20,
      "outputs": [
        {
          "output_type": "stream",
          "name": "stdout",
          "text": [
            "INDICE: 0\n",
            "NUMERO: 66\n",
            "\n",
            "\n",
            "-------->66\n",
            "\n",
            "<--------------\n",
            "INDICE: 1\n",
            "NUMERO: -3\n",
            "\n",
            "\n",
            "-------->-3\n",
            "\n",
            "<--------------\n",
            "INDICE: 2\n",
            "NUMERO: 35\n",
            "\n",
            "\n",
            "-------->35\n",
            "\n",
            "<--------------\n",
            "INDICE: 3\n",
            "NUMERO: 96\n",
            "\n",
            "\n",
            "-------->96\n",
            "\n",
            "<--------------\n"
          ]
        }
      ]
    },
    {
      "cell_type": "code",
      "source": [
        "texto = \"Hola mundo Python\"\n",
        "for letra in texto:\n",
        "  print(letra)\n"
      ],
      "metadata": {
        "colab": {
          "base_uri": "https://localhost:8080/"
        },
        "id": "P4jRQVjSebw6",
        "outputId": "a4fed421-7d1a-4732-ea31-e0e5bca1c2b3"
      },
      "execution_count": 22,
      "outputs": [
        {
          "output_type": "stream",
          "name": "stdout",
          "text": [
            "H\n",
            "o\n",
            "l\n",
            "a\n",
            " \n",
            "m\n",
            "u\n",
            "n\n",
            "d\n",
            "o\n",
            " \n",
            "P\n",
            "y\n",
            "t\n",
            "h\n",
            "o\n",
            "n\n"
          ]
        }
      ]
    },
    {
      "cell_type": "code",
      "source": [
        "for numero in range(10):\n",
        "  if numero == 2:\n",
        "    continue\n",
        "  elif numero == 8:\n",
        "    break\n",
        "  print(\"numero vale \", numero)\n",
        "else:\n",
        "  print(\"termine de iterar y el numero final es \", numero)"
      ],
      "metadata": {
        "colab": {
          "base_uri": "https://localhost:8080/"
        },
        "id": "LeZzMP5HexDn",
        "outputId": "22d8b1a0-e5ca-4b71-b52a-8beed9bbada8"
      },
      "execution_count": 23,
      "outputs": [
        {
          "output_type": "stream",
          "name": "stdout",
          "text": [
            "numero vale  0\n",
            "numero vale  1\n",
            "numero vale  3\n",
            "numero vale  4\n",
            "numero vale  5\n",
            "numero vale  6\n",
            "numero vale  7\n"
          ]
        }
      ]
    },
    {
      "cell_type": "code",
      "source": [
        "paises = ['Canada', 'USA', 'Mexico', 'Australia', 'Argentina', 'China','India']\n",
        "for pais in paises:\n",
        "  print(\"Soy de \", pais)"
      ],
      "metadata": {
        "colab": {
          "base_uri": "https://localhost:8080/"
        },
        "id": "4TIpE5WxfGMX",
        "outputId": "33e45caf-a73c-40be-e301-b18ea89d0dfd"
      },
      "execution_count": 24,
      "outputs": [
        {
          "output_type": "stream",
          "name": "stdout",
          "text": [
            "Soy de  Canada\n",
            "Soy de  USA\n",
            "Soy de  Mexico\n",
            "Soy de  Australia\n",
            "Soy de  Argentina\n",
            "Soy de  China\n",
            "Soy de  India\n"
          ]
        }
      ]
    },
    {
      "cell_type": "markdown",
      "source": [
        "crear un bucle que sume los pares del 0 al 100\n"
      ],
      "metadata": {
        "id": "7jxY3WabkYCP"
      }
    },
    {
      "cell_type": "code",
      "source": [
        "####"
      ],
      "metadata": {
        "id": "NoYLXPYqkbpO"
      },
      "execution_count": null,
      "outputs": []
    },
    {
      "cell_type": "markdown",
      "source": [
        "Imprimir por pantalla los numeros del 1 al 10 al revés"
      ],
      "metadata": {
        "id": "3ZlyvQVOkdmv"
      }
    },
    {
      "cell_type": "code",
      "source": [
        "####"
      ],
      "metadata": {
        "id": "c6iXstGdkk1_"
      },
      "execution_count": null,
      "outputs": []
    },
    {
      "cell_type": "markdown",
      "source": [
        "Pedir al usuario que ingrese un numero y devolver los digitos totales del numero"
      ],
      "metadata": {
        "id": "jsNPRC1ukl3m"
      }
    },
    {
      "cell_type": "code",
      "source": [
        "####"
      ],
      "metadata": {
        "id": "QM_cz1u9ksTf"
      },
      "execution_count": null,
      "outputs": []
    }
  ]
}