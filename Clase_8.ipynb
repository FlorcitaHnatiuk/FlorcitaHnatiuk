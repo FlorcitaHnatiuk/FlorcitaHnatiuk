{
  "nbformat": 4,
  "nbformat_minor": 0,
  "metadata": {
    "colab": {
      "provenance": [],
      "collapsed_sections": [],
      "include_colab_link": true
    },
    "kernelspec": {
      "name": "python3",
      "display_name": "Python 3"
    },
    "language_info": {
      "name": "python"
    }
  },
  "cells": [
    {
      "cell_type": "markdown",
      "metadata": {
        "id": "view-in-github",
        "colab_type": "text"
      },
      "source": [
        "<a href=\"https://colab.research.google.com/github/FlorcitaHnatiuk/FlorcitaHnatiuk/blob/main/Clase_8.ipynb\" target=\"_parent\"><img src=\"https://colab.research.google.com/assets/colab-badge.svg\" alt=\"Open In Colab\"/></a>"
      ]
    },
    {
      "cell_type": "markdown",
      "source": [
        "# Manejo de archivos y datos\n",
        "\n",
        "Para leer y escribir archivos de texto plano (txt) en python necesitamos usar la función open\n",
        "\n",
        "open recibe 2 parametros\n",
        "*   **filename**: la ruta donde se encuentra el archivo (o donde lo queremos almacenar)\n",
        "*   **mode**: Este parámetro es una cadena que se utiliza para especificar el modo en el que debe abrirse el archivo. Las siguientes cadenas pueden utilizarse para activar un modo específico:\n",
        "\n",
        "  - **'r'**: se utiliza para leer(sólo) el archivo. Se pasa por defecto si no se suministra ningún parámetro y devuelve un error si no existe tal archivo.\n",
        "  - **'w'**: se utiliza para escribir en/sobre el archivo. Si el archivo con el nombre suministrado no existe, crea uno por nosotros.\n",
        "  - **'a'**: se utiliza para añadir (anexar) contenido a un archivo existente. Si no existe tal archivo, crea uno para nosotros.\n",
        "  - **'x'**: se utiliza para crear un archivo específico.\n",
        "  - **'b'**: se utiliza cuando el usuario quiere manejar el archivo en modo binario. Generalmente se utiliza para manejar archivos de imagen.\n",
        "  - **'t'**: se utiliza para manejar archivos en modo texto. Por defecto, la función open() utiliza el modo texto.\n",
        "\n",
        "\n"
      ],
      "metadata": {
        "id": "LaRW_WgtJp-5"
      }
    },
    {
      "cell_type": "markdown",
      "source": [
        "## Escritura de archivos\n",
        "\n",
        "Para escribir en un archivo, necesitamos la funcion write"
      ],
      "metadata": {
        "id": "S8vttZxiV55-"
      }
    },
    {
      "cell_type": "code",
      "execution_count": null,
      "metadata": {
        "id": "Otx_qvKrJb8E"
      },
      "outputs": [],
      "source": [
        "f = open('/content/ejemplo_escritura.txt', 'w')\n",
        "\n",
        "f.write('adios a todos')\n",
        "\n",
        "f.close()"
      ]
    },
    {
      "cell_type": "code",
      "source": [
        "f = open('/content/ejemplo_escritura.txt', 'w')\n",
        "\n",
        "texto = input('Ingrese un texto')\n",
        "\n",
        "f.write(texto)\n",
        "\n",
        "f.close()"
      ],
      "metadata": {
        "colab": {
          "base_uri": "https://localhost:8080/"
        },
        "id": "1S9XF0qUaD17",
        "outputId": "d7c534f4-8860-4e62-9d90-fe96f77f176a"
      },
      "execution_count": null,
      "outputs": [
        {
          "name": "stdout",
          "output_type": "stream",
          "text": [
            "Ingrese un textoarepitas con queso\n"
          ]
        }
      ]
    },
    {
      "cell_type": "code",
      "source": [
        "f = open('/content/ejemplo_escritura.txt', 'a')\n",
        "\n",
        "dni = 1234\n",
        "\n",
        "f.write(str(dni))\n",
        "\n",
        "f.close()"
      ],
      "metadata": {
        "id": "ijSq6KsldJOS"
      },
      "execution_count": null,
      "outputs": []
    },
    {
      "cell_type": "code",
      "source": [
        "chat_string = ''\n",
        "while True:\n",
        "\n",
        "  chat = input('Escriba un mensaje, 0 para salir \\n')\n",
        "  if chat == '0':\n",
        "    chat = ''\n",
        "    break\n",
        "  chat_string += chat + '\\n'\n",
        "\n",
        "chat_file = open('/content/ejemplo_lecturaa.txt', 'a')\n",
        "chat_file.write(chat_string)\n",
        "chat_file.close()"
      ],
      "metadata": {
        "colab": {
          "base_uri": "https://localhost:8080/"
        },
        "id": "JYr5jbrUYYXk",
        "outputId": "ad041d8a-78d4-44c5-f559-9046cda9a259"
      },
      "execution_count": null,
      "outputs": [
        {
          "name": "stdout",
          "output_type": "stream",
          "text": [
            "Escriba un mensaje, 0 para salir \n",
            "hola chicos\n",
            "Escriba un mensaje, 0 para salir \n",
            "esta clase es practica\n",
            "Escriba un mensaje, 0 para salir \n",
            "argentina papaaaaaa\n",
            "Escriba un mensaje, 0 para salir \n",
            "clase 8\n",
            "Escriba un mensaje, 0 para salir \n",
            "adios\n",
            "Escriba un mensaje, 0 para salir \n",
            "0\n"
          ]
        }
      ]
    },
    {
      "cell_type": "code",
      "source": [
        "while True:\n",
        "  chat_file = open('/content/chat.txt', 'a')\n",
        "\n",
        "  chat = input('Escriba un mensaje, 0 para salir \\n')\n",
        "  if chat == '0':\n",
        "    chat = ''\n",
        "    break\n",
        "  chat_file.write(chat)\n",
        "\n",
        "  chat_file.close()"
      ],
      "metadata": {
        "colab": {
          "base_uri": "https://localhost:8080/"
        },
        "id": "KTczdd2DXAc1",
        "outputId": "4b6ce6b3-da10-4d9d-81fc-511d224e5c27"
      },
      "execution_count": null,
      "outputs": [
        {
          "name": "stdout",
          "output_type": "stream",
          "text": [
            "Escriba un mensaje, 0 para salir \n",
            "test\n",
            "Escriba un mensaje, 0 para salir \n",
            "5\n",
            "Escriba un mensaje, 0 para salir \n",
            "0\n"
          ]
        }
      ]
    },
    {
      "cell_type": "markdown",
      "source": [
        "## Lectura de Archivos\n",
        "\n",
        "Para leer archivos tenemos 3 metodos importantes\n",
        "\n",
        "\n",
        "1.   **read**: devuelve los bytes leídos en forma de cadena. Lee n bytes, si no se especifica n, lee todo el archivo.\n",
        "2.   **readline**: Lee una línea del archivo y devuelve en forma de cadena. Para n especificado, lee como máximo n bytes. Sin embargo, no lee más de una línea, aunque n supere la longitud de la línea.\n",
        "3.   **readlines**: Lee todas las líneas y devuelve como cada línea un elemento de cadena en una lista.\n",
        "\n"
      ],
      "metadata": {
        "id": "bLRBx3NudqfM"
      }
    },
    {
      "cell_type": "code",
      "source": [
        "# Utilizando read\n",
        "\n",
        "ejemplo_lectura = open('/content/ejemplo_lectura.txt', 'r')\n",
        "print(ejemplo_lectura.read())\n",
        "ejemplo_lectura.close()"
      ],
      "metadata": {
        "colab": {
          "base_uri": "https://localhost:8080/"
        },
        "id": "4QLLXSSVdqVk",
        "outputId": "bbedbd5f-9cda-4667-e98d-4f0dbcbf1a02"
      },
      "execution_count": null,
      "outputs": [
        {
          "output_type": "stream",
          "name": "stdout",
          "text": [
            "<class 'str'>\n"
          ]
        }
      ]
    },
    {
      "cell_type": "code",
      "source": [
        "# Utilizando readline\n",
        "\n",
        "ejemplo_lectura = open('/content/ejemplo_lectura.txt', 'r')\n",
        "print(ejemplo_lectura.readline())\n",
        "ejemplo_lectura.close()"
      ],
      "metadata": {
        "colab": {
          "base_uri": "https://localhost:8080/"
        },
        "id": "y14eGgP8gpVL",
        "outputId": "357d73e2-8c79-4dc3-db32-03815c1915f3"
      },
      "execution_count": null,
      "outputs": [
        {
          "output_type": "stream",
          "name": "stdout",
          "text": [
            "hola chicos\n",
            "\n"
          ]
        }
      ]
    },
    {
      "cell_type": "code",
      "source": [
        "# Utilizando readlines\n",
        "\n",
        "ejemplo_lectura = open('/content/ejemplo_lectura.txt', 'r')\n",
        "\n",
        "for linea in ejemplo_lectura.readlines():\n",
        "  print(linea)\n",
        "\n",
        "ejemplo_lectura.close()"
      ],
      "metadata": {
        "colab": {
          "base_uri": "https://localhost:8080/"
        },
        "id": "jS3UAfs7hcpo",
        "outputId": "01ebfabd-944d-4f92-fded-f6ad9041cfff"
      },
      "execution_count": null,
      "outputs": [
        {
          "output_type": "stream",
          "name": "stdout",
          "text": [
            "['hola chicos\\n', 'esta clase es practica\\n', 'argentina papaaaaaa\\n', 'clase 8\\n', 'adios\\n']\n"
          ]
        }
      ]
    },
    {
      "cell_type": "markdown",
      "source": [
        "En Python, la función seek() se utiliza para cambiar la posición del El manejador de archivo a una posición específica dada. El manejador de archivo es como un cursor, que define desde donde los datos tienen que ser leídos o escritos en el archivo. "
      ],
      "metadata": {
        "id": "DSBzJv42l68O"
      }
    },
    {
      "cell_type": "code",
      "source": [
        "# Utilizando seek\n",
        "\n",
        "ejemplo_lectura = open('/content/ejemplo_lectura.txt', 'r')\n",
        "\n",
        "ejemplo_lectura.seek(30) #[6:]\n",
        "print(ejemplo_lectura.read())\n",
        "\n",
        "ejemplo_lectura.close()"
      ],
      "metadata": {
        "colab": {
          "base_uri": "https://localhost:8080/"
        },
        "id": "KPOhxE0FlheU",
        "outputId": "146f6fb5-fc25-4045-a1eb-047495aada4b"
      },
      "execution_count": null,
      "outputs": [
        {
          "output_type": "stream",
          "name": "stdout",
          "text": [
            "tica\n",
            "argentina papaaaaaa\n",
            "clase 8\n",
            "adios\n",
            "\n"
          ]
        }
      ]
    },
    {
      "cell_type": "markdown",
      "source": [
        "## Ejemplo 1 \n",
        "\n",
        "Simularemos el login y registro de Facebook, utilizaremos el archivo usuarios.txt para leer y almacenar usuarios.\n",
        "\n",
        "Los usuarios se almacenan con el siguiente formato:\n",
        "\n",
        "*username,password,nombre,apellido*\n",
        "\n",
        "Puntos clave:\n",
        "\n",
        "\n",
        "1.   Para el login es necesario leer el archivo y verificar que el usuario se encuentra en el mismo\n",
        "2.   Para registrar a un nuevo usuario, es necesario escribir en el archivo (cual sera la funcion mas adecuada: write o append?)\n",
        "3.   Para login los usuarios solo deben ingresar su username y su password, se retornara un mensaje con nombre y apellido\n",
        "4.   Para registro se debe pedir los campos username, password, nombre, apellido respectivamente\n",
        "\n",
        "Para practicar: mejorar el programa para que tenga un numero de intentos, en caso de que el usuario ingrese mal el correo o\n",
        "\n"
      ],
      "metadata": {
        "id": "ZyaKL9uSh9-1"
      }
    },
    {
      "cell_type": "code",
      "source": [
        "opcion = int(input('Digite 1 para iniciar sesion o 2 para registrarse: '))\n",
        "\n",
        "if (opcion == 1):\n",
        "  print('Iniciar Sesion')\n",
        "\n",
        "  username = input('Usuario: ')\n",
        "  pwd = input('Contraseña: ')\n",
        "\n",
        "  file = open('/content/usuarios.txt', 'r')\n",
        "  for linea in file.readlines():\n",
        "    print(linea)\n",
        "    data = linea.split(',')\n",
        "\n",
        "    if(data[0] == username and data[1] == pwd):\n",
        "      print(f'Bienvenido a Facebook :D {data[2]} {data[3]}')\n",
        "      file.close()\n",
        "      break\n",
        "    else:\n",
        "      print('Usuario o contraseña incorrectos')\n",
        "\n",
        "elif (opcion == 2):\n",
        "  print('Registro')\n",
        "  username = input('Usuario: ')\n",
        "  pwd = input('Contraseña: ')\n",
        "  nombre = input('Nombre: ')\n",
        "  apellido = input('Apellido: ')\n",
        "\n",
        "  f = open('/content/usuarios.txt', 'a')\n",
        "\n",
        "  # username,password,nombre,apellido\n",
        "  f.write(f'{username},{pwd},{nombre},{apellido}\\n')\n",
        "\n",
        "  f.close()\n",
        "\n",
        "\n",
        "else:\n",
        "  print('Opcion no valida')"
      ],
      "metadata": {
        "colab": {
          "base_uri": "https://localhost:8080/"
        },
        "id": "Lt8aDZIx-V1e",
        "outputId": "2f8a10c2-dcc1-424e-f2e7-2e4e2f1b22f2"
      },
      "execution_count": null,
      "outputs": [
        {
          "name": "stdout",
          "output_type": "stream",
          "text": [
            "Digite 1 para iniciar sesion o 2 para registrarse: 2\n",
            "Registro\n",
            "Usuario: goku\n",
            "Contraseña: 3 - 0 > 7 - 1\n",
            "Nombre: Luis\n",
            "Apellido: Sandoval\n"
          ]
        }
      ]
    },
    {
      "cell_type": "code",
      "source": [
        "nombre = input('Como se llama tu mascota: ')\n",
        "edad = input('Cuantos años tiene?: ')\n",
        "tipo_animal = input('Que tipo de animal es?: ')\n",
        "\n",
        "f = open('/content/desafio1.txt', 'a')\n",
        "\n",
        "f.write(f'Mi mascota se llama {nombre}, tiene {edad} años y es {tipo_animal} \\n')\n",
        "f.close()\n"
      ],
      "metadata": {
        "colab": {
          "base_uri": "https://localhost:8080/"
        },
        "id": "vYawpmCQG5Ey",
        "outputId": "9a1d48bc-6db6-4322-b113-7eabec6a3854"
      },
      "execution_count": null,
      "outputs": [
        {
          "name": "stdout",
          "output_type": "stream",
          "text": [
            "Como se llama tu mascota: firulais\n",
            "Cuantos años tiene?: 6\n",
            "Que tipo de animal es?: perro\n"
          ]
        }
      ]
    },
    {
      "cell_type": "markdown",
      "source": [
        "## Archivos JSON\n",
        "\n",
        "JSON (JavaScript Object Notation - Notación de Objetos de JavaScript) es un formato ligero de intercambio de datos. Leerlo y escribirlo es simple para humanos, mientras que para las máquinas es simple interpretarlo y generarlo. \n",
        "\n",
        "Ejemplo:\n",
        "\n",
        "\n",
        "\n",
        "```\n",
        "{ \n",
        "    \"cliente\": {  \n",
        "      \"id\": 2020, \n",
        "      \"nombre\": \"Maria Aparecida\" \n",
        "    },\n",
        "    \"pagos\": [  \n",
        "        {  \n",
        "          \"id\": 123,   \n",
        "          \"descripcion\": \"Compra del libro Cangaceiro JavaScript\",    \n",
        "          \"valor\": 50.5   \n",
        "        },   \n",
        "        {    \n",
        "          \"id\": 124,    \n",
        "          \"descripcion\": \"Mensualidad escolar\",    \n",
        "          \"valor\": 1500   \n",
        "        }  \n",
        "    ]\n",
        "}\n",
        "```"
      ],
      "metadata": {
        "id": "Bki6URwTXQ34"
      }
    },
    {
      "cell_type": "markdown",
      "source": [
        "Para utilizar JSON en Python es necesario utilizar la librería json"
      ],
      "metadata": {
        "id": "0lYyELzsZXsK"
      }
    },
    {
      "cell_type": "code",
      "source": [
        "import json"
      ],
      "metadata": {
        "id": "XIDNgUBxp03G"
      },
      "execution_count": null,
      "outputs": []
    },
    {
      "cell_type": "markdown",
      "source": [
        "La librería JSON nos provee 2 métodos importates que veremos a continuación\n",
        "\n",
        "\n",
        "*   **load()**: puede leer un archivo que contiene un objeto JSON. Supongamos que tienes un archivo llamado student.json que contiene datos de estudiantes y queremos leer ese archivo.\n",
        "\n",
        "\n",
        "*   **dump()** se utiliza para escribir el objeto serializado de Python como datos con formato JSON en un archivo.\n",
        "\n"
      ],
      "metadata": {
        "id": "k2fY3GwoZ4kC"
      }
    },
    {
      "cell_type": "code",
      "source": [
        "# Utilicemos dump para cargar el JSON de ejemplo en un archivo\n",
        "dict_ejemplo = { \n",
        "    \"cliente\": {\n",
        "      \"id\": 2020, \n",
        "      \"nombre\": \"Maria Aparecida\" \n",
        "    },\n",
        "    \"pagos\": [  \n",
        "        {  \n",
        "          \"id\": 123,   \n",
        "          \"descripcion\": \"Compra del libro Cangaceiro JavaScript\",    \n",
        "          \"valor\": 50.5   \n",
        "        },   \n",
        "        {    \n",
        "          \"id\": 124,    \n",
        "          \"descripcion\": \"Mensualidad escolar\",    \n",
        "          \"valor\": 1500   \n",
        "        }  \n",
        "    ]\n",
        "}\n",
        "\n",
        "\n",
        "\n",
        "with open('/content/ejemplo_json.json', 'w') as file: # file = open()\n",
        "    json.dump(dict_ejemplo, file) # file.write()"
      ],
      "metadata": {
        "id": "8qtyEWJ3p07f"
      },
      "execution_count": null,
      "outputs": []
    },
    {
      "cell_type": "code",
      "source": [
        "# Utilicemos load para leer el ejemplo\n",
        "with open('/content/ejemplo_json.json', 'r') as file:\n",
        "  data = json.load(file) # file.read()\n",
        "\n",
        "print(data)"
      ],
      "metadata": {
        "id": "v_yHGrZjp05J",
        "colab": {
          "base_uri": "https://localhost:8080/"
        },
        "outputId": "0497d310-c2fc-4574-e627-430222bf3800"
      },
      "execution_count": null,
      "outputs": [
        {
          "output_type": "stream",
          "name": "stdout",
          "text": [
            "{'cliente': {'id': 2020, 'nombre': 'Maria Aparecida'}, 'pagos': [{'id': 123, 'descripcion': 'Compra del libro Cangaceiro JavaScript', 'valor': 50.5}, {'id': 124, 'descripcion': 'Mensualidad escolar', 'valor': 1500}]}\n",
            "<class 'dict'>\n"
          ]
        }
      ]
    },
    {
      "cell_type": "code",
      "source": [
        "opcion = int(input('Digite un 1 para iniciar sesion o un 2 para registrarse: '))\n",
        "new_data = {\n",
        "    'usuarios': []\n",
        "}\n",
        "#{usuarios: [lista]}\n",
        "#Clave : valor\n",
        "\n",
        "if(opcion == 1):\n",
        "    print('INICIAR SESION\\n')\n",
        "    username = input('Username: ')\n",
        "    pwd = input('Contraseña: ')\n",
        "    with open('/content/usuarios.json', 'r') as file:\n",
        "        data = json.load(file)\n",
        "        for user in data['usuarios']:\n",
        "            if(user['username'] == username and user['pwd'] == pwd):\n",
        "                print(f'Bienvenido a Fakebook :D {username}')\n",
        "                print('En que estas pensando...')\n",
        "                break\n",
        "        else:\n",
        "            print('Usuario no encontrado')\n",
        "elif(opcion == 2):\n",
        "    print('REGISTRO\\n')\n",
        "\n",
        "    newdata = {\n",
        "        'username': input('Username: '),\n",
        "        'pwd' : input('Contraseña: '),\n",
        "        'name' : input('Nombre: '),\n",
        "        'lastName' : input('Apellido: ')\n",
        "    }\n",
        "    #file = open('/content/usuarios.json', 'r')\n",
        "    with open('/content/usuarios.json', 'r') as file:\n",
        "        data = json.load(file)\n",
        "    data['usuarios'].append(newdata)\n",
        "\n",
        "    with open('/content/usuarios.json', 'w') as file:\n",
        "        json.dump(data,file)\n",
        "    print('Registro Exitoso!')\n",
        "else:\n",
        "    print('Opcion no valida')"
      ],
      "metadata": {
        "colab": {
          "base_uri": "https://localhost:8080/"
        },
        "outputId": "e3ea9ac9-3b86-4cae-ceb8-b8bf470e13e1",
        "id": "pye8GYxfsAic"
      },
      "execution_count": null,
      "outputs": [
        {
          "output_type": "stream",
          "name": "stdout",
          "text": [
            "Digite un 1 para iniciar sesion o un 2 para registrarse: 1\n",
            "INICIAR SESION\n",
            "\n",
            "Username: profe\n",
            "Contraseña: asd.456\n",
            "Bienvenido a Fakebook :D profe\n",
            "En que estas pensando...\n"
          ]
        }
      ]
    },
    {
      "cell_type": "markdown",
      "source": [
        "## Pandas para lectura de CSV\n",
        "\n",
        "pandas es una poderosa librería para manipulación de datos en python (data wrangling).\n",
        "\n",
        "Cuenta con un amplio rango de metodos para la lectura de fuentes de datos (archivos)\n",
        "\n",
        "En esta clase veremos el fundamental para leer archivos separados por comas (CSV)\n"
      ],
      "metadata": {
        "id": "NhzkcWjiscGU"
      }
    },
    {
      "cell_type": "code",
      "source": [
        "import pandas as pd\n",
        "\n",
        "df = pd.read_csv('/content/dataset_turnos_detalle.csv')"
      ],
      "metadata": {
        "id": "yusqVopssb1Q"
      },
      "execution_count": null,
      "outputs": []
    },
    {
      "cell_type": "code",
      "source": [
        "df.head()"
      ],
      "metadata": {
        "colab": {
          "base_uri": "https://localhost:8080/",
          "height": 206
        },
        "id": "Oscqk_YPfckn",
        "outputId": "b17c0d34-98a4-4088-9b0d-e3b37056a3d4"
      },
      "execution_count": null,
      "outputs": [
        {
          "output_type": "execute_result",
          "data": {
            "text/plain": [
              "      genero                            sede                    servicio  \\\n",
              "0  MASCULINO                 Centro Islámico  Adultos Mayores de 80 años   \n",
              "1  MASCULINO                      Club Ferro  Adultos Mayores de 80 años   \n",
              "2   FEMENINO                        La Rural  Adultos Mayores de 80 años   \n",
              "3  MASCULINO  Centro de día Parque Chacabuco  Adultos Mayores de 80 años   \n",
              "4   FEMENINO              Centro C. Recoleta  Adultos Mayores de 80 años   \n",
              "\n",
              "           fecha_cita  \n",
              "0  01MAR2021:11:15:00  \n",
              "1  02MAR2021:09:00:00  \n",
              "2  01MAR2021:13:30:00  \n",
              "3  25FEB2021:13:00:00  \n",
              "4  01MAR2021:13:30:00  "
            ],
            "text/html": [
              "\n",
              "  <div id=\"df-94dd9d7d-4e80-4eb7-955e-91e95d7e5d99\">\n",
              "    <div class=\"colab-df-container\">\n",
              "      <div>\n",
              "<style scoped>\n",
              "    .dataframe tbody tr th:only-of-type {\n",
              "        vertical-align: middle;\n",
              "    }\n",
              "\n",
              "    .dataframe tbody tr th {\n",
              "        vertical-align: top;\n",
              "    }\n",
              "\n",
              "    .dataframe thead th {\n",
              "        text-align: right;\n",
              "    }\n",
              "</style>\n",
              "<table border=\"1\" class=\"dataframe\">\n",
              "  <thead>\n",
              "    <tr style=\"text-align: right;\">\n",
              "      <th></th>\n",
              "      <th>genero</th>\n",
              "      <th>sede</th>\n",
              "      <th>servicio</th>\n",
              "      <th>fecha_cita</th>\n",
              "    </tr>\n",
              "  </thead>\n",
              "  <tbody>\n",
              "    <tr>\n",
              "      <th>0</th>\n",
              "      <td>MASCULINO</td>\n",
              "      <td>Centro Islámico</td>\n",
              "      <td>Adultos Mayores de 80 años</td>\n",
              "      <td>01MAR2021:11:15:00</td>\n",
              "    </tr>\n",
              "    <tr>\n",
              "      <th>1</th>\n",
              "      <td>MASCULINO</td>\n",
              "      <td>Club Ferro</td>\n",
              "      <td>Adultos Mayores de 80 años</td>\n",
              "      <td>02MAR2021:09:00:00</td>\n",
              "    </tr>\n",
              "    <tr>\n",
              "      <th>2</th>\n",
              "      <td>FEMENINO</td>\n",
              "      <td>La Rural</td>\n",
              "      <td>Adultos Mayores de 80 años</td>\n",
              "      <td>01MAR2021:13:30:00</td>\n",
              "    </tr>\n",
              "    <tr>\n",
              "      <th>3</th>\n",
              "      <td>MASCULINO</td>\n",
              "      <td>Centro de día Parque Chacabuco</td>\n",
              "      <td>Adultos Mayores de 80 años</td>\n",
              "      <td>25FEB2021:13:00:00</td>\n",
              "    </tr>\n",
              "    <tr>\n",
              "      <th>4</th>\n",
              "      <td>FEMENINO</td>\n",
              "      <td>Centro C. Recoleta</td>\n",
              "      <td>Adultos Mayores de 80 años</td>\n",
              "      <td>01MAR2021:13:30:00</td>\n",
              "    </tr>\n",
              "  </tbody>\n",
              "</table>\n",
              "</div>\n",
              "      <button class=\"colab-df-convert\" onclick=\"convertToInteractive('df-94dd9d7d-4e80-4eb7-955e-91e95d7e5d99')\"\n",
              "              title=\"Convert this dataframe to an interactive table.\"\n",
              "              style=\"display:none;\">\n",
              "        \n",
              "  <svg xmlns=\"http://www.w3.org/2000/svg\" height=\"24px\"viewBox=\"0 0 24 24\"\n",
              "       width=\"24px\">\n",
              "    <path d=\"M0 0h24v24H0V0z\" fill=\"none\"/>\n",
              "    <path d=\"M18.56 5.44l.94 2.06.94-2.06 2.06-.94-2.06-.94-.94-2.06-.94 2.06-2.06.94zm-11 1L8.5 8.5l.94-2.06 2.06-.94-2.06-.94L8.5 2.5l-.94 2.06-2.06.94zm10 10l.94 2.06.94-2.06 2.06-.94-2.06-.94-.94-2.06-.94 2.06-2.06.94z\"/><path d=\"M17.41 7.96l-1.37-1.37c-.4-.4-.92-.59-1.43-.59-.52 0-1.04.2-1.43.59L10.3 9.45l-7.72 7.72c-.78.78-.78 2.05 0 2.83L4 21.41c.39.39.9.59 1.41.59.51 0 1.02-.2 1.41-.59l7.78-7.78 2.81-2.81c.8-.78.8-2.07 0-2.86zM5.41 20L4 18.59l7.72-7.72 1.47 1.35L5.41 20z\"/>\n",
              "  </svg>\n",
              "      </button>\n",
              "      \n",
              "  <style>\n",
              "    .colab-df-container {\n",
              "      display:flex;\n",
              "      flex-wrap:wrap;\n",
              "      gap: 12px;\n",
              "    }\n",
              "\n",
              "    .colab-df-convert {\n",
              "      background-color: #E8F0FE;\n",
              "      border: none;\n",
              "      border-radius: 50%;\n",
              "      cursor: pointer;\n",
              "      display: none;\n",
              "      fill: #1967D2;\n",
              "      height: 32px;\n",
              "      padding: 0 0 0 0;\n",
              "      width: 32px;\n",
              "    }\n",
              "\n",
              "    .colab-df-convert:hover {\n",
              "      background-color: #E2EBFA;\n",
              "      box-shadow: 0px 1px 2px rgba(60, 64, 67, 0.3), 0px 1px 3px 1px rgba(60, 64, 67, 0.15);\n",
              "      fill: #174EA6;\n",
              "    }\n",
              "\n",
              "    [theme=dark] .colab-df-convert {\n",
              "      background-color: #3B4455;\n",
              "      fill: #D2E3FC;\n",
              "    }\n",
              "\n",
              "    [theme=dark] .colab-df-convert:hover {\n",
              "      background-color: #434B5C;\n",
              "      box-shadow: 0px 1px 3px 1px rgba(0, 0, 0, 0.15);\n",
              "      filter: drop-shadow(0px 1px 2px rgba(0, 0, 0, 0.3));\n",
              "      fill: #FFFFFF;\n",
              "    }\n",
              "  </style>\n",
              "\n",
              "      <script>\n",
              "        const buttonEl =\n",
              "          document.querySelector('#df-94dd9d7d-4e80-4eb7-955e-91e95d7e5d99 button.colab-df-convert');\n",
              "        buttonEl.style.display =\n",
              "          google.colab.kernel.accessAllowed ? 'block' : 'none';\n",
              "\n",
              "        async function convertToInteractive(key) {\n",
              "          const element = document.querySelector('#df-94dd9d7d-4e80-4eb7-955e-91e95d7e5d99');\n",
              "          const dataTable =\n",
              "            await google.colab.kernel.invokeFunction('convertToInteractive',\n",
              "                                                     [key], {});\n",
              "          if (!dataTable) return;\n",
              "\n",
              "          const docLinkHtml = 'Like what you see? Visit the ' +\n",
              "            '<a target=\"_blank\" href=https://colab.research.google.com/notebooks/data_table.ipynb>data table notebook</a>'\n",
              "            + ' to learn more about interactive tables.';\n",
              "          element.innerHTML = '';\n",
              "          dataTable['output_type'] = 'display_data';\n",
              "          await google.colab.output.renderOutput(dataTable, element);\n",
              "          const docLink = document.createElement('div');\n",
              "          docLink.innerHTML = docLinkHtml;\n",
              "          element.appendChild(docLink);\n",
              "        }\n",
              "      </script>\n",
              "    </div>\n",
              "  </div>\n",
              "  "
            ]
          },
          "metadata": {},
          "execution_count": 46
        }
      ]
    },
    {
      "cell_type": "code",
      "source": [
        "df.tail()"
      ],
      "metadata": {
        "id": "veZqavVvfkcy",
        "colab": {
          "base_uri": "https://localhost:8080/",
          "height": 206
        },
        "outputId": "bbd9d345-74c2-4f7e-f0e4-ab01f77f6c37"
      },
      "execution_count": null,
      "outputs": [
        {
          "output_type": "execute_result",
          "data": {
            "text/plain": [
              "            genero                     sede                    servicio  \\\n",
              "1925040   FEMENINO     Casa del Historiador  Adultos Mayores de 80 años   \n",
              "1925041  MASCULINO                 La Rural  Adultos Mayores de 80 años   \n",
              "1925042   FEMENINO  Club Glorias Argentinas  Adultos Mayores de 80 años   \n",
              "1925043  MASCULINO    Centro de Dia N9 y 13  Adultos Mayores de 80 años   \n",
              "1925044   FEMENINO         Club San Lorenzo  Adultos Mayores de 80 años   \n",
              "\n",
              "                 fecha_cita  \n",
              "1925040  23FEB2021:15:45:00  \n",
              "1925041  02MAR2021:15:00:00  \n",
              "1925042  25FEB2021:13:30:00  \n",
              "1925043  25FEB2021:08:15:00  \n",
              "1925044  26FEB2021:11:30:00  "
            ],
            "text/html": [
              "\n",
              "  <div id=\"df-9f45515c-c854-4567-9fdb-001954ad2a0f\">\n",
              "    <div class=\"colab-df-container\">\n",
              "      <div>\n",
              "<style scoped>\n",
              "    .dataframe tbody tr th:only-of-type {\n",
              "        vertical-align: middle;\n",
              "    }\n",
              "\n",
              "    .dataframe tbody tr th {\n",
              "        vertical-align: top;\n",
              "    }\n",
              "\n",
              "    .dataframe thead th {\n",
              "        text-align: right;\n",
              "    }\n",
              "</style>\n",
              "<table border=\"1\" class=\"dataframe\">\n",
              "  <thead>\n",
              "    <tr style=\"text-align: right;\">\n",
              "      <th></th>\n",
              "      <th>genero</th>\n",
              "      <th>sede</th>\n",
              "      <th>servicio</th>\n",
              "      <th>fecha_cita</th>\n",
              "    </tr>\n",
              "  </thead>\n",
              "  <tbody>\n",
              "    <tr>\n",
              "      <th>1925040</th>\n",
              "      <td>FEMENINO</td>\n",
              "      <td>Casa del Historiador</td>\n",
              "      <td>Adultos Mayores de 80 años</td>\n",
              "      <td>23FEB2021:15:45:00</td>\n",
              "    </tr>\n",
              "    <tr>\n",
              "      <th>1925041</th>\n",
              "      <td>MASCULINO</td>\n",
              "      <td>La Rural</td>\n",
              "      <td>Adultos Mayores de 80 años</td>\n",
              "      <td>02MAR2021:15:00:00</td>\n",
              "    </tr>\n",
              "    <tr>\n",
              "      <th>1925042</th>\n",
              "      <td>FEMENINO</td>\n",
              "      <td>Club Glorias Argentinas</td>\n",
              "      <td>Adultos Mayores de 80 años</td>\n",
              "      <td>25FEB2021:13:30:00</td>\n",
              "    </tr>\n",
              "    <tr>\n",
              "      <th>1925043</th>\n",
              "      <td>MASCULINO</td>\n",
              "      <td>Centro de Dia N9 y 13</td>\n",
              "      <td>Adultos Mayores de 80 años</td>\n",
              "      <td>25FEB2021:08:15:00</td>\n",
              "    </tr>\n",
              "    <tr>\n",
              "      <th>1925044</th>\n",
              "      <td>FEMENINO</td>\n",
              "      <td>Club San Lorenzo</td>\n",
              "      <td>Adultos Mayores de 80 años</td>\n",
              "      <td>26FEB2021:11:30:00</td>\n",
              "    </tr>\n",
              "  </tbody>\n",
              "</table>\n",
              "</div>\n",
              "      <button class=\"colab-df-convert\" onclick=\"convertToInteractive('df-9f45515c-c854-4567-9fdb-001954ad2a0f')\"\n",
              "              title=\"Convert this dataframe to an interactive table.\"\n",
              "              style=\"display:none;\">\n",
              "        \n",
              "  <svg xmlns=\"http://www.w3.org/2000/svg\" height=\"24px\"viewBox=\"0 0 24 24\"\n",
              "       width=\"24px\">\n",
              "    <path d=\"M0 0h24v24H0V0z\" fill=\"none\"/>\n",
              "    <path d=\"M18.56 5.44l.94 2.06.94-2.06 2.06-.94-2.06-.94-.94-2.06-.94 2.06-2.06.94zm-11 1L8.5 8.5l.94-2.06 2.06-.94-2.06-.94L8.5 2.5l-.94 2.06-2.06.94zm10 10l.94 2.06.94-2.06 2.06-.94-2.06-.94-.94-2.06-.94 2.06-2.06.94z\"/><path d=\"M17.41 7.96l-1.37-1.37c-.4-.4-.92-.59-1.43-.59-.52 0-1.04.2-1.43.59L10.3 9.45l-7.72 7.72c-.78.78-.78 2.05 0 2.83L4 21.41c.39.39.9.59 1.41.59.51 0 1.02-.2 1.41-.59l7.78-7.78 2.81-2.81c.8-.78.8-2.07 0-2.86zM5.41 20L4 18.59l7.72-7.72 1.47 1.35L5.41 20z\"/>\n",
              "  </svg>\n",
              "      </button>\n",
              "      \n",
              "  <style>\n",
              "    .colab-df-container {\n",
              "      display:flex;\n",
              "      flex-wrap:wrap;\n",
              "      gap: 12px;\n",
              "    }\n",
              "\n",
              "    .colab-df-convert {\n",
              "      background-color: #E8F0FE;\n",
              "      border: none;\n",
              "      border-radius: 50%;\n",
              "      cursor: pointer;\n",
              "      display: none;\n",
              "      fill: #1967D2;\n",
              "      height: 32px;\n",
              "      padding: 0 0 0 0;\n",
              "      width: 32px;\n",
              "    }\n",
              "\n",
              "    .colab-df-convert:hover {\n",
              "      background-color: #E2EBFA;\n",
              "      box-shadow: 0px 1px 2px rgba(60, 64, 67, 0.3), 0px 1px 3px 1px rgba(60, 64, 67, 0.15);\n",
              "      fill: #174EA6;\n",
              "    }\n",
              "\n",
              "    [theme=dark] .colab-df-convert {\n",
              "      background-color: #3B4455;\n",
              "      fill: #D2E3FC;\n",
              "    }\n",
              "\n",
              "    [theme=dark] .colab-df-convert:hover {\n",
              "      background-color: #434B5C;\n",
              "      box-shadow: 0px 1px 3px 1px rgba(0, 0, 0, 0.15);\n",
              "      filter: drop-shadow(0px 1px 2px rgba(0, 0, 0, 0.3));\n",
              "      fill: #FFFFFF;\n",
              "    }\n",
              "  </style>\n",
              "\n",
              "      <script>\n",
              "        const buttonEl =\n",
              "          document.querySelector('#df-9f45515c-c854-4567-9fdb-001954ad2a0f button.colab-df-convert');\n",
              "        buttonEl.style.display =\n",
              "          google.colab.kernel.accessAllowed ? 'block' : 'none';\n",
              "\n",
              "        async function convertToInteractive(key) {\n",
              "          const element = document.querySelector('#df-9f45515c-c854-4567-9fdb-001954ad2a0f');\n",
              "          const dataTable =\n",
              "            await google.colab.kernel.invokeFunction('convertToInteractive',\n",
              "                                                     [key], {});\n",
              "          if (!dataTable) return;\n",
              "\n",
              "          const docLinkHtml = 'Like what you see? Visit the ' +\n",
              "            '<a target=\"_blank\" href=https://colab.research.google.com/notebooks/data_table.ipynb>data table notebook</a>'\n",
              "            + ' to learn more about interactive tables.';\n",
              "          element.innerHTML = '';\n",
              "          dataTable['output_type'] = 'display_data';\n",
              "          await google.colab.output.renderOutput(dataTable, element);\n",
              "          const docLink = document.createElement('div');\n",
              "          docLink.innerHTML = docLinkHtml;\n",
              "          element.appendChild(docLink);\n",
              "        }\n",
              "      </script>\n",
              "    </div>\n",
              "  </div>\n",
              "  "
            ]
          },
          "metadata": {},
          "execution_count": 47
        }
      ]
    },
    {
      "cell_type": "code",
      "source": [
        "df.sample(5)"
      ],
      "metadata": {
        "id": "lG1frgu5flnB",
        "colab": {
          "base_uri": "https://localhost:8080/",
          "height": 206
        },
        "outputId": "e674a25e-cbc9-428c-9870-dd290181a13e"
      },
      "execution_count": null,
      "outputs": [
        {
          "output_type": "execute_result",
          "data": {
            "text/plain": [
              "            genero               sede  \\\n",
              "1292634   FEMENINO    Centro Islámico   \n",
              "931120    FEMENINO   Club River Plate   \n",
              "1179563  MASCULINO  Estadio Luna Park   \n",
              "719454    FEMENINO  Estadio Luna Park   \n",
              "1803611   FEMENINO     Usina del Arte   \n",
              "\n",
              "                                                  servicio          fecha_cita  \n",
              "1292634                         Adultos Mayores de 18 años  15JUN2021:13:00:00  \n",
              "931120                              Docentes y No Docentes  31MAY2021:13:30:00  \n",
              "1179563  Adultos Menores de 60 años con condiciones de ...  09JUN2021:12:45:00  \n",
              "719454                              Docentes y No Docentes  08MAY2021:14:15:00  \n",
              "1803611                         Adultos Mayores de 18 años  06JUL2021:13:30:00  "
            ],
            "text/html": [
              "\n",
              "  <div id=\"df-78cc677e-43a7-4ef5-9c6a-d8b7b3c3d559\">\n",
              "    <div class=\"colab-df-container\">\n",
              "      <div>\n",
              "<style scoped>\n",
              "    .dataframe tbody tr th:only-of-type {\n",
              "        vertical-align: middle;\n",
              "    }\n",
              "\n",
              "    .dataframe tbody tr th {\n",
              "        vertical-align: top;\n",
              "    }\n",
              "\n",
              "    .dataframe thead th {\n",
              "        text-align: right;\n",
              "    }\n",
              "</style>\n",
              "<table border=\"1\" class=\"dataframe\">\n",
              "  <thead>\n",
              "    <tr style=\"text-align: right;\">\n",
              "      <th></th>\n",
              "      <th>genero</th>\n",
              "      <th>sede</th>\n",
              "      <th>servicio</th>\n",
              "      <th>fecha_cita</th>\n",
              "    </tr>\n",
              "  </thead>\n",
              "  <tbody>\n",
              "    <tr>\n",
              "      <th>1292634</th>\n",
              "      <td>FEMENINO</td>\n",
              "      <td>Centro Islámico</td>\n",
              "      <td>Adultos Mayores de 18 años</td>\n",
              "      <td>15JUN2021:13:00:00</td>\n",
              "    </tr>\n",
              "    <tr>\n",
              "      <th>931120</th>\n",
              "      <td>FEMENINO</td>\n",
              "      <td>Club River Plate</td>\n",
              "      <td>Docentes y No Docentes</td>\n",
              "      <td>31MAY2021:13:30:00</td>\n",
              "    </tr>\n",
              "    <tr>\n",
              "      <th>1179563</th>\n",
              "      <td>MASCULINO</td>\n",
              "      <td>Estadio Luna Park</td>\n",
              "      <td>Adultos Menores de 60 años con condiciones de ...</td>\n",
              "      <td>09JUN2021:12:45:00</td>\n",
              "    </tr>\n",
              "    <tr>\n",
              "      <th>719454</th>\n",
              "      <td>FEMENINO</td>\n",
              "      <td>Estadio Luna Park</td>\n",
              "      <td>Docentes y No Docentes</td>\n",
              "      <td>08MAY2021:14:15:00</td>\n",
              "    </tr>\n",
              "    <tr>\n",
              "      <th>1803611</th>\n",
              "      <td>FEMENINO</td>\n",
              "      <td>Usina del Arte</td>\n",
              "      <td>Adultos Mayores de 18 años</td>\n",
              "      <td>06JUL2021:13:30:00</td>\n",
              "    </tr>\n",
              "  </tbody>\n",
              "</table>\n",
              "</div>\n",
              "      <button class=\"colab-df-convert\" onclick=\"convertToInteractive('df-78cc677e-43a7-4ef5-9c6a-d8b7b3c3d559')\"\n",
              "              title=\"Convert this dataframe to an interactive table.\"\n",
              "              style=\"display:none;\">\n",
              "        \n",
              "  <svg xmlns=\"http://www.w3.org/2000/svg\" height=\"24px\"viewBox=\"0 0 24 24\"\n",
              "       width=\"24px\">\n",
              "    <path d=\"M0 0h24v24H0V0z\" fill=\"none\"/>\n",
              "    <path d=\"M18.56 5.44l.94 2.06.94-2.06 2.06-.94-2.06-.94-.94-2.06-.94 2.06-2.06.94zm-11 1L8.5 8.5l.94-2.06 2.06-.94-2.06-.94L8.5 2.5l-.94 2.06-2.06.94zm10 10l.94 2.06.94-2.06 2.06-.94-2.06-.94-.94-2.06-.94 2.06-2.06.94z\"/><path d=\"M17.41 7.96l-1.37-1.37c-.4-.4-.92-.59-1.43-.59-.52 0-1.04.2-1.43.59L10.3 9.45l-7.72 7.72c-.78.78-.78 2.05 0 2.83L4 21.41c.39.39.9.59 1.41.59.51 0 1.02-.2 1.41-.59l7.78-7.78 2.81-2.81c.8-.78.8-2.07 0-2.86zM5.41 20L4 18.59l7.72-7.72 1.47 1.35L5.41 20z\"/>\n",
              "  </svg>\n",
              "      </button>\n",
              "      \n",
              "  <style>\n",
              "    .colab-df-container {\n",
              "      display:flex;\n",
              "      flex-wrap:wrap;\n",
              "      gap: 12px;\n",
              "    }\n",
              "\n",
              "    .colab-df-convert {\n",
              "      background-color: #E8F0FE;\n",
              "      border: none;\n",
              "      border-radius: 50%;\n",
              "      cursor: pointer;\n",
              "      display: none;\n",
              "      fill: #1967D2;\n",
              "      height: 32px;\n",
              "      padding: 0 0 0 0;\n",
              "      width: 32px;\n",
              "    }\n",
              "\n",
              "    .colab-df-convert:hover {\n",
              "      background-color: #E2EBFA;\n",
              "      box-shadow: 0px 1px 2px rgba(60, 64, 67, 0.3), 0px 1px 3px 1px rgba(60, 64, 67, 0.15);\n",
              "      fill: #174EA6;\n",
              "    }\n",
              "\n",
              "    [theme=dark] .colab-df-convert {\n",
              "      background-color: #3B4455;\n",
              "      fill: #D2E3FC;\n",
              "    }\n",
              "\n",
              "    [theme=dark] .colab-df-convert:hover {\n",
              "      background-color: #434B5C;\n",
              "      box-shadow: 0px 1px 3px 1px rgba(0, 0, 0, 0.15);\n",
              "      filter: drop-shadow(0px 1px 2px rgba(0, 0, 0, 0.3));\n",
              "      fill: #FFFFFF;\n",
              "    }\n",
              "  </style>\n",
              "\n",
              "      <script>\n",
              "        const buttonEl =\n",
              "          document.querySelector('#df-78cc677e-43a7-4ef5-9c6a-d8b7b3c3d559 button.colab-df-convert');\n",
              "        buttonEl.style.display =\n",
              "          google.colab.kernel.accessAllowed ? 'block' : 'none';\n",
              "\n",
              "        async function convertToInteractive(key) {\n",
              "          const element = document.querySelector('#df-78cc677e-43a7-4ef5-9c6a-d8b7b3c3d559');\n",
              "          const dataTable =\n",
              "            await google.colab.kernel.invokeFunction('convertToInteractive',\n",
              "                                                     [key], {});\n",
              "          if (!dataTable) return;\n",
              "\n",
              "          const docLinkHtml = 'Like what you see? Visit the ' +\n",
              "            '<a target=\"_blank\" href=https://colab.research.google.com/notebooks/data_table.ipynb>data table notebook</a>'\n",
              "            + ' to learn more about interactive tables.';\n",
              "          element.innerHTML = '';\n",
              "          dataTable['output_type'] = 'display_data';\n",
              "          await google.colab.output.renderOutput(dataTable, element);\n",
              "          const docLink = document.createElement('div');\n",
              "          docLink.innerHTML = docLinkHtml;\n",
              "          element.appendChild(docLink);\n",
              "        }\n",
              "      </script>\n",
              "    </div>\n",
              "  </div>\n",
              "  "
            ]
          },
          "metadata": {},
          "execution_count": 49
        }
      ]
    },
    {
      "cell_type": "markdown",
      "source": [
        "Para seleccionar una columna en pandas, podemos utilizar la notación de diccionarios\n",
        "\n",
        "Ejemplo\n",
        "\n",
        "\n",
        "```\n",
        "diccionario['clave']\n",
        "```\n",
        "\n",
        "Al igual que los diccionarios, pandas nos retornará un valor, pero en lugar de ser un valor escalar (un valor de una dimension), este será una columna\n",
        "\n"
      ],
      "metadata": {
        "id": "EZXwxBvUfpUP"
      }
    },
    {
      "cell_type": "code",
      "source": [
        "df['sede']"
      ],
      "metadata": {
        "colab": {
          "base_uri": "https://localhost:8080/"
        },
        "id": "f8O1zDHefnic",
        "outputId": "0b7caaa8-227b-42f1-c496-8c45a31741fe"
      },
      "execution_count": null,
      "outputs": [
        {
          "output_type": "execute_result",
          "data": {
            "text/plain": [
              "0                         Centro Islámico\n",
              "1                              Club Ferro\n",
              "2                                La Rural\n",
              "3          Centro de día Parque Chacabuco\n",
              "4                      Centro C. Recoleta\n",
              "                        ...              \n",
              "1925040              Casa del Historiador\n",
              "1925041                          La Rural\n",
              "1925042           Club Glorias Argentinas\n",
              "1925043             Centro de Dia N9 y 13\n",
              "1925044                  Club San Lorenzo\n",
              "Name: sede, Length: 1925045, dtype: object"
            ]
          },
          "metadata": {},
          "execution_count": 50
        }
      ]
    },
    {
      "cell_type": "code",
      "source": [
        "df['test'] = 1"
      ],
      "metadata": {
        "id": "NFRWvklARqCn"
      },
      "execution_count": null,
      "outputs": []
    },
    {
      "cell_type": "code",
      "source": [
        "df.head()"
      ],
      "metadata": {
        "colab": {
          "base_uri": "https://localhost:8080/",
          "height": 206
        },
        "id": "9AcZvAdkRvIG",
        "outputId": "e0c09164-89fe-4042-9d96-9e6549d86377"
      },
      "execution_count": null,
      "outputs": [
        {
          "output_type": "execute_result",
          "data": {
            "text/plain": [
              "      genero                            sede                    servicio  \\\n",
              "0  MASCULINO                 Centro Islámico  Adultos Mayores de 80 años   \n",
              "1  MASCULINO                      Club Ferro  Adultos Mayores de 80 años   \n",
              "2   FEMENINO                        La Rural  Adultos Mayores de 80 años   \n",
              "3  MASCULINO  Centro de día Parque Chacabuco  Adultos Mayores de 80 años   \n",
              "4   FEMENINO              Centro C. Recoleta  Adultos Mayores de 80 años   \n",
              "\n",
              "           fecha_cita  test  \n",
              "0  01MAR2021:11:15:00     1  \n",
              "1  02MAR2021:09:00:00     1  \n",
              "2  01MAR2021:13:30:00     1  \n",
              "3  25FEB2021:13:00:00     1  \n",
              "4  01MAR2021:13:30:00     1  "
            ],
            "text/html": [
              "\n",
              "  <div id=\"df-39215c1b-b491-429f-a712-eb516fe38dfa\">\n",
              "    <div class=\"colab-df-container\">\n",
              "      <div>\n",
              "<style scoped>\n",
              "    .dataframe tbody tr th:only-of-type {\n",
              "        vertical-align: middle;\n",
              "    }\n",
              "\n",
              "    .dataframe tbody tr th {\n",
              "        vertical-align: top;\n",
              "    }\n",
              "\n",
              "    .dataframe thead th {\n",
              "        text-align: right;\n",
              "    }\n",
              "</style>\n",
              "<table border=\"1\" class=\"dataframe\">\n",
              "  <thead>\n",
              "    <tr style=\"text-align: right;\">\n",
              "      <th></th>\n",
              "      <th>genero</th>\n",
              "      <th>sede</th>\n",
              "      <th>servicio</th>\n",
              "      <th>fecha_cita</th>\n",
              "      <th>test</th>\n",
              "    </tr>\n",
              "  </thead>\n",
              "  <tbody>\n",
              "    <tr>\n",
              "      <th>0</th>\n",
              "      <td>MASCULINO</td>\n",
              "      <td>Centro Islámico</td>\n",
              "      <td>Adultos Mayores de 80 años</td>\n",
              "      <td>01MAR2021:11:15:00</td>\n",
              "      <td>1</td>\n",
              "    </tr>\n",
              "    <tr>\n",
              "      <th>1</th>\n",
              "      <td>MASCULINO</td>\n",
              "      <td>Club Ferro</td>\n",
              "      <td>Adultos Mayores de 80 años</td>\n",
              "      <td>02MAR2021:09:00:00</td>\n",
              "      <td>1</td>\n",
              "    </tr>\n",
              "    <tr>\n",
              "      <th>2</th>\n",
              "      <td>FEMENINO</td>\n",
              "      <td>La Rural</td>\n",
              "      <td>Adultos Mayores de 80 años</td>\n",
              "      <td>01MAR2021:13:30:00</td>\n",
              "      <td>1</td>\n",
              "    </tr>\n",
              "    <tr>\n",
              "      <th>3</th>\n",
              "      <td>MASCULINO</td>\n",
              "      <td>Centro de día Parque Chacabuco</td>\n",
              "      <td>Adultos Mayores de 80 años</td>\n",
              "      <td>25FEB2021:13:00:00</td>\n",
              "      <td>1</td>\n",
              "    </tr>\n",
              "    <tr>\n",
              "      <th>4</th>\n",
              "      <td>FEMENINO</td>\n",
              "      <td>Centro C. Recoleta</td>\n",
              "      <td>Adultos Mayores de 80 años</td>\n",
              "      <td>01MAR2021:13:30:00</td>\n",
              "      <td>1</td>\n",
              "    </tr>\n",
              "  </tbody>\n",
              "</table>\n",
              "</div>\n",
              "      <button class=\"colab-df-convert\" onclick=\"convertToInteractive('df-39215c1b-b491-429f-a712-eb516fe38dfa')\"\n",
              "              title=\"Convert this dataframe to an interactive table.\"\n",
              "              style=\"display:none;\">\n",
              "        \n",
              "  <svg xmlns=\"http://www.w3.org/2000/svg\" height=\"24px\"viewBox=\"0 0 24 24\"\n",
              "       width=\"24px\">\n",
              "    <path d=\"M0 0h24v24H0V0z\" fill=\"none\"/>\n",
              "    <path d=\"M18.56 5.44l.94 2.06.94-2.06 2.06-.94-2.06-.94-.94-2.06-.94 2.06-2.06.94zm-11 1L8.5 8.5l.94-2.06 2.06-.94-2.06-.94L8.5 2.5l-.94 2.06-2.06.94zm10 10l.94 2.06.94-2.06 2.06-.94-2.06-.94-.94-2.06-.94 2.06-2.06.94z\"/><path d=\"M17.41 7.96l-1.37-1.37c-.4-.4-.92-.59-1.43-.59-.52 0-1.04.2-1.43.59L10.3 9.45l-7.72 7.72c-.78.78-.78 2.05 0 2.83L4 21.41c.39.39.9.59 1.41.59.51 0 1.02-.2 1.41-.59l7.78-7.78 2.81-2.81c.8-.78.8-2.07 0-2.86zM5.41 20L4 18.59l7.72-7.72 1.47 1.35L5.41 20z\"/>\n",
              "  </svg>\n",
              "      </button>\n",
              "      \n",
              "  <style>\n",
              "    .colab-df-container {\n",
              "      display:flex;\n",
              "      flex-wrap:wrap;\n",
              "      gap: 12px;\n",
              "    }\n",
              "\n",
              "    .colab-df-convert {\n",
              "      background-color: #E8F0FE;\n",
              "      border: none;\n",
              "      border-radius: 50%;\n",
              "      cursor: pointer;\n",
              "      display: none;\n",
              "      fill: #1967D2;\n",
              "      height: 32px;\n",
              "      padding: 0 0 0 0;\n",
              "      width: 32px;\n",
              "    }\n",
              "\n",
              "    .colab-df-convert:hover {\n",
              "      background-color: #E2EBFA;\n",
              "      box-shadow: 0px 1px 2px rgba(60, 64, 67, 0.3), 0px 1px 3px 1px rgba(60, 64, 67, 0.15);\n",
              "      fill: #174EA6;\n",
              "    }\n",
              "\n",
              "    [theme=dark] .colab-df-convert {\n",
              "      background-color: #3B4455;\n",
              "      fill: #D2E3FC;\n",
              "    }\n",
              "\n",
              "    [theme=dark] .colab-df-convert:hover {\n",
              "      background-color: #434B5C;\n",
              "      box-shadow: 0px 1px 3px 1px rgba(0, 0, 0, 0.15);\n",
              "      filter: drop-shadow(0px 1px 2px rgba(0, 0, 0, 0.3));\n",
              "      fill: #FFFFFF;\n",
              "    }\n",
              "  </style>\n",
              "\n",
              "      <script>\n",
              "        const buttonEl =\n",
              "          document.querySelector('#df-39215c1b-b491-429f-a712-eb516fe38dfa button.colab-df-convert');\n",
              "        buttonEl.style.display =\n",
              "          google.colab.kernel.accessAllowed ? 'block' : 'none';\n",
              "\n",
              "        async function convertToInteractive(key) {\n",
              "          const element = document.querySelector('#df-39215c1b-b491-429f-a712-eb516fe38dfa');\n",
              "          const dataTable =\n",
              "            await google.colab.kernel.invokeFunction('convertToInteractive',\n",
              "                                                     [key], {});\n",
              "          if (!dataTable) return;\n",
              "\n",
              "          const docLinkHtml = 'Like what you see? Visit the ' +\n",
              "            '<a target=\"_blank\" href=https://colab.research.google.com/notebooks/data_table.ipynb>data table notebook</a>'\n",
              "            + ' to learn more about interactive tables.';\n",
              "          element.innerHTML = '';\n",
              "          dataTable['output_type'] = 'display_data';\n",
              "          await google.colab.output.renderOutput(dataTable, element);\n",
              "          const docLink = document.createElement('div');\n",
              "          docLink.innerHTML = docLinkHtml;\n",
              "          element.appendChild(docLink);\n",
              "        }\n",
              "      </script>\n",
              "    </div>\n",
              "  </div>\n",
              "  "
            ]
          },
          "metadata": {},
          "execution_count": 52
        }
      ]
    },
    {
      "cell_type": "markdown",
      "source": [
        "Esta cualidad es sumamente util, dado a que nos permite estudiar solo el comportamiento de una variable en lugar de todo el conjunto de datos\n",
        "\n",
        "En este caso, podemos realizar operaciones estadisticas como la media o mediana en caso de variables numericas.\n",
        "\n",
        "En el caso de la variable 'servicio', esta contiene solo elementos string, en este caso se le conoce como variable categorica. A esta podemos aplicarle la funcion `value_counts`, esta calculara la frecuencia simple de la variable"
      ],
      "metadata": {
        "id": "6OwaapEqgImi"
      }
    },
    {
      "cell_type": "code",
      "source": [
        "df['test'].std()"
      ],
      "metadata": {
        "colab": {
          "base_uri": "https://localhost:8080/"
        },
        "id": "AAAdYSvqSGsl",
        "outputId": "9e089127-4821-4282-97c2-33333864969d"
      },
      "execution_count": null,
      "outputs": [
        {
          "output_type": "execute_result",
          "data": {
            "text/plain": [
              "0.0"
            ]
          },
          "metadata": {},
          "execution_count": 54
        }
      ]
    },
    {
      "cell_type": "code",
      "source": [
        "df['servicio'].value_counts()"
      ],
      "metadata": {
        "colab": {
          "base_uri": "https://localhost:8080/"
        },
        "id": "6aruW-wkgIvI",
        "outputId": "80c1c03c-befb-4d18-8d0f-975a6374d178"
      },
      "execution_count": null,
      "outputs": [
        {
          "output_type": "execute_result",
          "data": {
            "text/plain": [
              "Adultos Mayores de 18 años                              608162\n",
              "Personal de Salud                                       271579\n",
              "Adultos Menores de 60 años con condiciones de riesgo    199411\n",
              "Adultos Mayores de 60 años                              181816\n",
              "Adultos Mayores de 80 años                              167582\n",
              "Adultos Mayores de 70 años                              160982\n",
              "Docentes y No Docentes                                   95950\n",
              "Adultos Mayores de 65 años                               86877\n",
              "Adultos Mayores de 75 años                               72370\n",
              "Personas con Alergia Severa                              32391\n",
              "Personal estratégico Seguridad                           20696\n",
              "Personal estratégico Desarrollo Humano                    9146\n",
              "Adultos Mayores PAMI                                      9091\n",
              "Barrios Vulnerables                                       5191\n",
              "Exceptuados                                               2836\n",
              "Empleados Casas Funerarias                                 965\n",
              "Name: servicio, dtype: int64"
            ]
          },
          "metadata": {},
          "execution_count": 85
        }
      ]
    },
    {
      "cell_type": "code",
      "source": [],
      "metadata": {
        "id": "WpxjDiCBR5qq"
      },
      "execution_count": null,
      "outputs": []
    }
  ]
}