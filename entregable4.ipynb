{
  "nbformat": 4,
  "nbformat_minor": 0,
  "metadata": {
    "colab": {
      "provenance": [],
      "authorship_tag": "ABX9TyMT5UJYOCb64453z4GH+U5n",
      "include_colab_link": true
    },
    "kernelspec": {
      "name": "python3",
      "display_name": "Python 3"
    },
    "language_info": {
      "name": "python"
    }
  },
  "cells": [
    {
      "cell_type": "markdown",
      "metadata": {
        "id": "view-in-github",
        "colab_type": "text"
      },
      "source": [
        "<a href=\"https://colab.research.google.com/github/FlorcitaHnatiuk/FlorcitaHnatiuk/blob/main/entregable4.ipynb\" target=\"_parent\"><img src=\"https://colab.research.google.com/assets/colab-badge.svg\" alt=\"Open In Colab\"/></a>"
      ]
    },
    {
      "cell_type": "code",
      "execution_count": 11,
      "metadata": {
        "colab": {
          "base_uri": "https://localhost:8080/"
        },
        "id": "93pUGM8sYwfd",
        "outputId": "2653e25d-0cd2-41c1-e37c-95fccec95714"
      },
      "outputs": [
        {
          "output_type": "stream",
          "name": "stdout",
          "text": [
            "Write the year to check: k\n",
            "Not valid, please write a number2020\n",
            "2020 is a leap year\n"
          ]
        }
      ],
      "source": [
        "year = input(\"Write the year to check: \")\n",
        "\n",
        "if type(year) != int:\n",
        "  year = int(input(\"Not valid, please write a number\"))\n",
        "else:\n",
        "  print(\"Valid\")\n",
        "\n",
        "def leap_year(year):\n",
        "  if (year % 400 == 0) and (year % 100 == 0):\n",
        "    return 'a leap year'\n",
        "  elif (year % 4 == 0) and (year % 100 != 0):\n",
        "    return 'a leap year'\n",
        "  else:\n",
        "    return 'not a leap year'\n",
        "\n",
        "print(f\"{year} is\", leap_year(year))\n"
      ]
    }
  ]
}