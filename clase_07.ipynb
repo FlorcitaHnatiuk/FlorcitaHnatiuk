{
  "nbformat": 4,
  "nbformat_minor": 0,
  "metadata": {
    "colab": {
      "provenance": [],
      "authorship_tag": "ABX9TyNwXAQcWgsnvCI7cf4AjPKP",
      "include_colab_link": true
    },
    "kernelspec": {
      "name": "python3",
      "display_name": "Python 3"
    },
    "language_info": {
      "name": "python"
    }
  },
  "cells": [
    {
      "cell_type": "markdown",
      "metadata": {
        "id": "view-in-github",
        "colab_type": "text"
      },
      "source": [
        "<a href=\"https://colab.research.google.com/github/FlorcitaHnatiuk/FlorcitaHnatiuk/blob/main/clase_07.ipynb\" target=\"_parent\"><img src=\"https://colab.research.google.com/assets/colab-badge.svg\" alt=\"Open In Colab\"/></a>"
      ]
    },
    {
      "cell_type": "code",
      "execution_count": null,
      "metadata": {
        "id": "WTECMGmXJxVY"
      },
      "outputs": [],
      "source": []
    },
    {
      "cell_type": "markdown",
      "source": [
        "COLECCIONES 1\n",
        "Utilizando todo lo que sabes sobre cadenas, listas y sus métodos internos,\n",
        "transforma este texto: gordon lanzó su curva&strawberry ha fallado por un pie! -gritó Joe Castiglione&dos pies -le corrigió Troop&strawberry menea la cabeza como disgustado… -agrega el comentarista"
      ],
      "metadata": {
        "id": "BkqPiG13KUeM"
      }
    },
    {
      "cell_type": "code",
      "source": [],
      "metadata": {
        "id": "2omQkZuaKYfU"
      },
      "execution_count": null,
      "outputs": []
    },
    {
      "cell_type": "code",
      "execution_count": null,
      "metadata": {
        "colab": {
          "base_uri": "https://localhost:8080/"
        },
        "id": "JkJn3JRrIuAM",
        "outputId": "e7c93e93-0d59-474d-97f0-7db19190fa38"
      },
      "outputs": [
        {
          "output_type": "stream",
          "name": "stdout",
          "text": [
            "Gordon lanzó su curva...\n",
            "- Strawberry ha fallado por un pie! -gritó joe castiglione.\n",
            "- Dos pies le corrigió troop.\n",
            "- Dos pies -le corrigió troop.\n",
            "- Strawberry menea la cabeza como disgustado… -agrega el comentarista.\n"
          ]
        }
      ],
      "source": [
        "#Gordon lanzó su curva...\n",
        "#- Strawberry ha fallado por un pie! -gritó Joe Castiglione.\n",
        "#- Dos pies le corrigió Troop.\n",
        "#- Strawberry menea la cabeza como disgustado… -agrega el comentarista.\n",
        "\n",
        "texto = \"gordon lanzó su curva&strawberry ha fallado por un pie! -gritó Joe Castiglione&dos pies -le corrigió Troop&strawberry menea la cabeza como disgustado… -agrega el comentarista\"\n",
        "texto_modificado = texto.split(\"&\")\n",
        "for i,j in enumerate(texto_modificado):\n",
        "  if i == 2:\n",
        "    print(\"-\",j.capitalize().replace(\"-\",\"\")+\".\")\n",
        "  if i!=0:\n",
        "    print(\"-\",j.capitalize()+\".\")\n",
        "  else:\n",
        "    print(j.capitalize()+\"...\")\n"
      ]
    }
  ]
}